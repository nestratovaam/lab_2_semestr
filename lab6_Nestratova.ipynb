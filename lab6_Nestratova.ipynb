{
  "nbformat": 4,
  "nbformat_minor": 0,
  "metadata": {
    "colab": {
      "name": "lab6_Nestratova.ipynb",
      "provenance": [],
      "authorship_tag": "ABX9TyPdKPBuYqkqypiYPs/BUkiC",
      "include_colab_link": true
    },
    "kernelspec": {
      "name": "python3",
      "display_name": "Python 3"
    },
    "language_info": {
      "name": "python"
    }
  },
  "cells": [
    {
      "cell_type": "markdown",
      "metadata": {
        "id": "view-in-github",
        "colab_type": "text"
      },
      "source": [
        "<a href=\"https://colab.research.google.com/github/nestratovaam/lab_2_semestr/blob/main/lab6_Nestratova.ipynb\" target=\"_parent\"><img src=\"https://colab.research.google.com/assets/colab-badge.svg\" alt=\"Open In Colab\"/></a>"
      ]
    },
    {
      "cell_type": "markdown",
      "metadata": {
        "id": "SfLdZyEoP61W"
      },
      "source": [
        "# Тестовый набор данных"
      ]
    },
    {
      "cell_type": "code",
      "metadata": {
        "colab": {
          "base_uri": "https://localhost:8080/"
        },
        "id": "gN9ZWExWNkh0",
        "outputId": "4b7e5645-e71d-436f-cbd3-4487facf735e"
      },
      "source": [
        "from numpy.random import seed\n",
        "from numpy.random import randn\n",
        "from numpy import mean\n",
        "from numpy import std\n",
        "\n",
        "seed(1)\n",
        "data = 5 * randn(100) + 50\n",
        "print('mean=%.3f stdv=%.3f' %(mean(data), std(data)))"
      ],
      "execution_count": 2,
      "outputs": [
        {
          "output_type": "stream",
          "text": [
            "mean=50.303 stdv=4.426\n"
          ],
          "name": "stdout"
        }
      ]
    },
    {
      "cell_type": "markdown",
      "metadata": {
        "id": "YImt53H4QCfC"
      },
      "source": [
        "## Визуальные проверки нормальности"
      ]
    },
    {
      "cell_type": "markdown",
      "metadata": {
        "id": "ajfVJCLbQI36"
      },
      "source": [
        "### График гистограммы"
      ]
    },
    {
      "cell_type": "code",
      "metadata": {
        "colab": {
          "base_uri": "https://localhost:8080/",
          "height": 264
        },
        "id": "aA9mVXzgQG5Q",
        "outputId": "930869d9-411b-404d-bfc9-3dd14413fb01"
      },
      "source": [
        "from matplotlib import pyplot\n",
        "\n",
        "pyplot.hist(data)\n",
        "pyplot.show()"
      ],
      "execution_count": 6,
      "outputs": [
        {
          "output_type": "display_data",
          "data": {
            "image/png": "[encoded data removed]",
            "text/plain": [
              "<Figure size 432x288 with 1 Axes>"
            ]
          },
          "metadata": {
            "tags": [],
            "needs_background": "light"
          }
        }
      ]
    },
    {
      "cell_type": "markdown",
      "metadata": {
        "id": "_JZ4HJMKQyQ5"
      },
      "source": [
        "При выполнении примера создается график гистограммы, показывающий\n",
        "количество наблюдений в каждом бине. Мы можем видеть гауссовидную форму данных,\n",
        "которая, хотя и не сильно знакома в форме колокола, является грубым приближением."
      ]
    },
    {
      "cell_type": "markdown",
      "metadata": {
        "id": "oP0OoAZfQ0AB"
      },
      "source": [
        "### Квантиль-Квантиль Участок"
      ]
    },
    {
      "cell_type": "code",
      "metadata": {
        "colab": {
          "base_uri": "https://localhost:8080/",
          "height": 278
        },
        "id": "ZvqU1K24Q_9B",
        "outputId": "7cdbde4a-c5a9-4a1f-ca10-73fabd0f281f"
      },
      "source": [
        "from statsmodels.graphics.gofplots import qqplot\n",
        "\n",
        "qqplot(data, line='s')\n",
        "pyplot.show()"
      ],
      "execution_count": 5,
      "outputs": [
        {
          "output_type": "display_data",
          "data": {
            "image/png": "[encoded data removed]",
            "text/plain": [
              "<Figure size 432x288 with 1 Axes>"
            ]
          },
          "metadata": {
            "tags": [],
            "needs_background": "light"
          }
        }
      ]
    },
    {
      "cell_type": "markdown",
      "metadata": {
        "id": "eCtsC-SUQ_AU"
      },
      "source": [
        "При выполнении примера создается график QQ, показывающий график рассеяния\n",
        "точек в диагональной линии, который точно соответствует ожидаемому диагональному\n",
        "шаблону для выборки из распределения Гаусса.\n",
        "Есть несколько небольших отклонений, особенно в нижней части графика, что и\n",
        "следовало ожидать, учитывая небольшую выборку данных."
      ]
    },
    {
      "cell_type": "markdown",
      "metadata": {
        "id": "usbLfQMKRiYQ"
      },
      "source": [
        "## Статистические тесты нормальности"
      ]
    },
    {
      "cell_type": "markdown",
      "metadata": {
        "id": "TlIqcmaZRwJ9"
      },
      "source": [
        "### Тест Шапиро-Вилка"
      ]
    },
    {
      "cell_type": "code",
      "metadata": {
        "colab": {
          "base_uri": "https://localhost:8080/"
        },
        "id": "EYVvjBS1RxwO",
        "outputId": "ef80fcf1-0047-47e6-fad3-19c06763e843"
      },
      "source": [
        "from scipy.stats import shapiro\n",
        "\n",
        "stat, p = shapiro(data)\n",
        "print('Statistics=%.3f, p=%.3f' % (stat, p))\n",
        "alpha = 0.05\n",
        "if p > alpha:\n",
        "  print('Sample looks Gaussian (fail to reject H0)')\n",
        "else:\n",
        "  print('Sample doesnt look Gaussian (regect H0)')"
      ],
      "execution_count": 9,
      "outputs": [
        {
          "output_type": "stream",
          "text": [
            "Statistics=0.992, p=0.822\n",
            "Sample looks Gaussian (fail to reject H0)\n"
          ],
          "name": "stdout"
        }
      ]
    },
    {
      "cell_type": "markdown",
      "metadata": {
        "id": "0Yo5tiX4S910"
      },
      "source": [
        "При выполнении примера сначала вычисляется тест для выборки данных, затем\n",
        "выводится статистика и вычисленное значение p.\n",
        "Значение p интересует и находит, что данные, скорее всего, взяты из гауссовского\n",
        "распределения."
      ]
    },
    {
      "cell_type": "markdown",
      "metadata": {
        "id": "p4J_u74oS_fS"
      },
      "source": [
        "### Тест д'Агостино на K ^ 2"
      ]
    },
    {
      "cell_type": "code",
      "metadata": {
        "colab": {
          "base_uri": "https://localhost:8080/"
        },
        "id": "Mk7EXOzJTD89",
        "outputId": "1a4843e0-6a93-43b0-8ca9-b825db316cde"
      },
      "source": [
        "from scipy.stats import normaltest\n",
        "\n",
        "stat, p = normaltest(data)\n",
        "print('Statistics=%.3f, p=%.3f' % (stat, p))\n",
        "alpha = 0.05\n",
        "if p > alpha:\n",
        "  print('Sample looks Gaussian (fail to reject H0)')\n",
        "else:\n",
        "  print('Sample doesnt look Gaussian (regect H0)')"
      ],
      "execution_count": 10,
      "outputs": [
        {
          "output_type": "stream",
          "text": [
            "Statistics=0.102, p=0.950\n",
            "Sample looks Gaussian (fail to reject H0)\n"
          ],
          "name": "stdout"
        }
      ]
    },
    {
      "cell_type": "markdown",
      "metadata": {
        "id": "lr1elJ8yTYW2"
      },
      "source": [
        "При выполнении примера вычисляется статистика и печатается статистика и\n",
        "значение p. Значение p интерпретируется по отношению к альфа 5% и обнаруживает, что\n",
        "тестовый набор данных не отличается значительно от нормального."
      ]
    },
    {
      "cell_type": "markdown",
      "metadata": {
        "id": "HyKfaEGaTZ2v"
      },
      "source": [
        "### Тест Андерсона-Дарлинга"
      ]
    },
    {
      "cell_type": "code",
      "metadata": {
        "colab": {
          "base_uri": "https://localhost:8080/"
        },
        "id": "qyvZs7rmTcir",
        "outputId": "5021e54a-a93e-4085-a817-18b2b9444337"
      },
      "source": [
        "from scipy.stats import anderson\n",
        "\n",
        "result = anderson(data)\n",
        "print('Statistics=%.3f' % result.statistic)\n",
        "p = 0\n",
        "for i in range(len(result.critical_values)):\n",
        "  sl, cv = result.significance_level[1], result.critical_values[1]\n",
        "  if result.statistic < result.critical_values[1]:\n",
        "    print('%.3f: %.3f, data looks normal (fail to reject H0)' % (sl, cv))\n",
        "  else:\n",
        "    print('%.3f: %.3f, data doestn look normal (reject H0)' % (sl, cv))"
      ],
      "execution_count": 14,
      "outputs": [
        {
          "output_type": "stream",
          "text": [
            "Statistics=0.220\n",
            "10.000: 0.632, data looks normal (fail to reject H0)\n",
            "10.000: 0.632, data looks normal (fail to reject H0)\n",
            "10.000: 0.632, data looks normal (fail to reject H0)\n",
            "10.000: 0.632, data looks normal (fail to reject H0)\n",
            "10.000: 0.632, data looks normal (fail to reject H0)\n"
          ],
          "name": "stdout"
        }
      ]
    },
    {
      "cell_type": "markdown",
      "metadata": {
        "id": "HbRIDYC6Vcku"
      },
      "source": [
        "При выполнении примера вычисляется статистика по набору тестовых данных и\n",
        "выводятся критические значения.\n",
        "Критические значения в статистическом тесте - это диапазон предварительно\n",
        "определенных границ значимости, при которых H0 может быть отклонен, если расчетная\n",
        "статистика меньше критического значения. Вместо простого значения p тест возвращает\n",
        "критическое значение для диапазона различных обычно используемых уровней\n",
        "значимости.\n",
        "Существует возможность интерпретировать результаты, не сумев отвергнуть\n",
        "нулевую гипотезу о том, что данные являются нормальными, если рассчитанная статистика\n",
        "теста меньше критического значения на выбранном уровне значимости.\n",
        "На каждом уровне значимости тест обнаружил, что данные соответствуют нормальному\n",
        "распределению"
      ]
    },
    {
      "cell_type": "markdown",
      "metadata": {
        "id": "G0TY5qRRVesg"
      },
      "source": [
        "# **Индивидуальное задание**"
      ]
    },
    {
      "cell_type": "markdown",
      "metadata": {
        "id": "fUnQiUfKVzMu"
      },
      "source": [
        "**Вариант 21.**  использование данных с веб-страницы,\n",
        "обеспечивающей информацией о самых кассовых фильмах по жанру спортивные фильмы.\n",
        "\n"
      ]
    },
    {
      "cell_type": "code",
      "metadata": {
        "colab": {
          "base_uri": "https://localhost:8080/",
          "height": 1000
        },
        "id": "6vUpa-LIWr6R",
        "outputId": "34660c17-87e6-4453-a50d-dc8b8b472c4a"
      },
      "source": [
        "from numpy import mean\n",
        "from numpy import std\n",
        "\n",
        "#importing the libraries\n",
        "import requests\n",
        "import pandas as pd\n",
        "import seaborn as sns\n",
        "import matplotlib.pyplot as plt\n",
        "#Importing the data from the webpage into a DataFrame\n",
        "url='https://en.wikipedia.org/wiki/List_of_highest-grossing_sports_films'\n",
        "req=requests.get(url)\n",
        "data=pd.read_html(req.text)\n",
        "df=data[3]\n",
        "df"
      ],
      "execution_count": 17,
      "outputs": [
        {
          "output_type": "execute_result",
          "data": {
            "text/html": [
              "<div>\n",
              "<style scoped>\n",
              "    .dataframe tbody tr th:only-of-type {\n",
              "        vertical-align: middle;\n",
              "    }\n",
              "\n",
              "    .dataframe tbody tr th {\n",
              "        vertical-align: top;\n",
              "    }\n",
              "\n",
              "    .dataframe thead th {\n",
              "        text-align: right;\n",
              "    }\n",
              "</style>\n",
              "<table border=\"1\" class=\"dataframe\">\n",
              "  <thead>\n",
              "    <tr style=\"text-align: right;\">\n",
              "      <th></th>\n",
              "      <th>Film</th>\n",
              "      <th>Year</th>\n",
              "      <th>Worldwide gross</th>\n",
              "      <th>Ref</th>\n",
              "      <th>Sport(s)</th>\n",
              "    </tr>\n",
              "  </thead>\n",
              "  <tbody>\n",
              "    <tr>\n",
              "      <th>0</th>\n",
              "      <td>Furious 7</td>\n",
              "      <td>2015</td>\n",
              "      <td>$1,516,045,911</td>\n",
              "      <td>[1]</td>\n",
              "      <td>Motor racing</td>\n",
              "    </tr>\n",
              "    <tr>\n",
              "      <th>1</th>\n",
              "      <td>The Fate of the Furious</td>\n",
              "      <td>2017</td>\n",
              "      <td>$1,238,764,765</td>\n",
              "      <td>[2]</td>\n",
              "      <td>Motor racing</td>\n",
              "    </tr>\n",
              "    <tr>\n",
              "      <th>2</th>\n",
              "      <td>The Hunger Games: Catching Fire</td>\n",
              "      <td>2013</td>\n",
              "      <td>$865,011,746</td>\n",
              "      <td>[3]</td>\n",
              "      <td>Battle royale</td>\n",
              "    </tr>\n",
              "    <tr>\n",
              "      <th>3</th>\n",
              "      <td>Fast &amp; Furious 6</td>\n",
              "      <td>2013</td>\n",
              "      <td>$788,679,850</td>\n",
              "      <td>[4]</td>\n",
              "      <td>Motor racing</td>\n",
              "    </tr>\n",
              "    <tr>\n",
              "      <th>4</th>\n",
              "      <td>The Hunger Games: Mockingjay – Part 1</td>\n",
              "      <td>2014</td>\n",
              "      <td>$755,356,711</td>\n",
              "      <td>[5]</td>\n",
              "      <td>Battle royale</td>\n",
              "    </tr>\n",
              "    <tr>\n",
              "      <th>5</th>\n",
              "      <td>The Hunger Games</td>\n",
              "      <td>2012</td>\n",
              "      <td>$694,394,724</td>\n",
              "      <td>[6]</td>\n",
              "      <td>Battle royale</td>\n",
              "    </tr>\n",
              "    <tr>\n",
              "      <th>6</th>\n",
              "      <td>Forrest Gump</td>\n",
              "      <td>1994</td>\n",
              "      <td>$678,222,284</td>\n",
              "      <td>[7]</td>\n",
              "      <td>American football / ping pong</td>\n",
              "    </tr>\n",
              "    <tr>\n",
              "      <th>7</th>\n",
              "      <td>The Hunger Games: Mockingjay – Part 2</td>\n",
              "      <td>2015</td>\n",
              "      <td>$653,428,261</td>\n",
              "      <td>[8]</td>\n",
              "      <td>Battle royale</td>\n",
              "    </tr>\n",
              "    <tr>\n",
              "      <th>8</th>\n",
              "      <td>Fast Five</td>\n",
              "      <td>2011</td>\n",
              "      <td>$626,137,675</td>\n",
              "      <td>[9]</td>\n",
              "      <td>Motor racing</td>\n",
              "    </tr>\n",
              "    <tr>\n",
              "      <th>9</th>\n",
              "      <td>Casino Royale</td>\n",
              "      <td>2006</td>\n",
              "      <td>$616,501,619</td>\n",
              "      <td>[10]</td>\n",
              "      <td>Gambling</td>\n",
              "    </tr>\n",
              "    <tr>\n",
              "      <th>10</th>\n",
              "      <td>Ready Player One</td>\n",
              "      <td>2018</td>\n",
              "      <td>$582,890,172</td>\n",
              "      <td>[11]</td>\n",
              "      <td>E-sport</td>\n",
              "    </tr>\n",
              "    <tr>\n",
              "      <th>11</th>\n",
              "      <td>Cars 2</td>\n",
              "      <td>2011</td>\n",
              "      <td>$562,110,557</td>\n",
              "      <td>[12]</td>\n",
              "      <td>Motor racing</td>\n",
              "    </tr>\n",
              "    <tr>\n",
              "      <th>12</th>\n",
              "      <td>Cars</td>\n",
              "      <td>2006</td>\n",
              "      <td>$462,216,280</td>\n",
              "      <td>[13]</td>\n",
              "      <td>Motor racing</td>\n",
              "    </tr>\n",
              "    <tr>\n",
              "      <th>13</th>\n",
              "      <td>Gladiator</td>\n",
              "      <td>2000</td>\n",
              "      <td>$460,583,960</td>\n",
              "      <td>[14]</td>\n",
              "      <td>Gladiatorial combat</td>\n",
              "    </tr>\n",
              "    <tr>\n",
              "      <th>14</th>\n",
              "      <td>Alita: Battle Angel</td>\n",
              "      <td>2019</td>\n",
              "      <td>$404,852,543</td>\n",
              "      <td>[15]</td>\n",
              "      <td>Battle royale / motor racing</td>\n",
              "    </tr>\n",
              "    <tr>\n",
              "      <th>15</th>\n",
              "      <td>Cars 3</td>\n",
              "      <td>2017</td>\n",
              "      <td>$383,930,656</td>\n",
              "      <td>[16]</td>\n",
              "      <td>Motor racing</td>\n",
              "    </tr>\n",
              "    <tr>\n",
              "      <th>16</th>\n",
              "      <td>Slumdog Millionaire</td>\n",
              "      <td>2008</td>\n",
              "      <td>$378,021,385</td>\n",
              "      <td>[17]</td>\n",
              "      <td>Game show</td>\n",
              "    </tr>\n",
              "    <tr>\n",
              "      <th>17</th>\n",
              "      <td>Fast &amp; Furious</td>\n",
              "      <td>2009</td>\n",
              "      <td>$363,164,265</td>\n",
              "      <td>[18]</td>\n",
              "      <td>Motor racing</td>\n",
              "    </tr>\n",
              "    <tr>\n",
              "      <th>18</th>\n",
              "      <td>The Karate Kid</td>\n",
              "      <td>2010</td>\n",
              "      <td>$359,126,022</td>\n",
              "      <td>[19]</td>\n",
              "      <td>Martial arts</td>\n",
              "    </tr>\n",
              "    <tr>\n",
              "      <th>19</th>\n",
              "      <td>Enter the Dragon</td>\n",
              "      <td>1973</td>\n",
              "      <td>$350,000,000</td>\n",
              "      <td>[20]</td>\n",
              "      <td>Martial arts</td>\n",
              "    </tr>\n",
              "    <tr>\n",
              "      <th>20</th>\n",
              "      <td>XXX: Return of Xander Cage</td>\n",
              "      <td>2017</td>\n",
              "      <td>$345,963,851</td>\n",
              "      <td>[21]</td>\n",
              "      <td>Extreme sports</td>\n",
              "    </tr>\n",
              "    <tr>\n",
              "      <th>21</th>\n",
              "      <td>Dangal</td>\n",
              "      <td>2016</td>\n",
              "      <td>$340,000,000</td>\n",
              "      <td>[22]</td>\n",
              "      <td>Wrestling</td>\n",
              "    </tr>\n",
              "    <tr>\n",
              "      <th>22</th>\n",
              "      <td>The Blind Side</td>\n",
              "      <td>2009</td>\n",
              "      <td>$309,208,309</td>\n",
              "      <td>[23]</td>\n",
              "      <td>American football</td>\n",
              "    </tr>\n",
              "    <tr>\n",
              "      <th>23</th>\n",
              "      <td>Rocky IV</td>\n",
              "      <td>1985</td>\n",
              "      <td>$300,473,716</td>\n",
              "      <td>[24]</td>\n",
              "      <td>Boxing</td>\n",
              "    </tr>\n",
              "    <tr>\n",
              "      <th>24</th>\n",
              "      <td>Smokey and the Bandit</td>\n",
              "      <td>1977</td>\n",
              "      <td>$300,000,000</td>\n",
              "      <td>[25]</td>\n",
              "      <td>Motor racing</td>\n",
              "    </tr>\n",
              "    <tr>\n",
              "      <th>25</th>\n",
              "      <td>Real Steel</td>\n",
              "      <td>2011</td>\n",
              "      <td>$299,268,508</td>\n",
              "      <td>[26]</td>\n",
              "      <td>Boxing</td>\n",
              "    </tr>\n",
              "    <tr>\n",
              "      <th>26</th>\n",
              "      <td>Turbo</td>\n",
              "      <td>2013</td>\n",
              "      <td>$282,570,682</td>\n",
              "      <td>[27]</td>\n",
              "      <td>Motor racing</td>\n",
              "    </tr>\n",
              "    <tr>\n",
              "      <th>27</th>\n",
              "      <td>xXx</td>\n",
              "      <td>2002</td>\n",
              "      <td>$277,448,382</td>\n",
              "      <td>[28]</td>\n",
              "      <td>Extreme sports</td>\n",
              "    </tr>\n",
              "    <tr>\n",
              "      <th>28</th>\n",
              "      <td>Jerry Maguire</td>\n",
              "      <td>1996</td>\n",
              "      <td>$273,552,592</td>\n",
              "      <td>[29]</td>\n",
              "      <td>American football</td>\n",
              "    </tr>\n",
              "    <tr>\n",
              "      <th>29</th>\n",
              "      <td>Rocky III</td>\n",
              "      <td>1982</td>\n",
              "      <td>$270,000,000</td>\n",
              "      <td>[30]</td>\n",
              "      <td>Boxing</td>\n",
              "    </tr>\n",
              "    <tr>\n",
              "      <th>30</th>\n",
              "      <td>Planes</td>\n",
              "      <td>2013</td>\n",
              "      <td>$239,258,712</td>\n",
              "      <td>[31]</td>\n",
              "      <td>Air racing</td>\n",
              "    </tr>\n",
              "    <tr>\n",
              "      <th>31</th>\n",
              "      <td>Saturday Night Fever</td>\n",
              "      <td>1977</td>\n",
              "      <td>$237,113,184</td>\n",
              "      <td>[32]</td>\n",
              "      <td>Dance competition</td>\n",
              "    </tr>\n",
              "    <tr>\n",
              "      <th>32</th>\n",
              "      <td>2 Fast 2 Furious</td>\n",
              "      <td>2003</td>\n",
              "      <td>$236,350,661</td>\n",
              "      <td>[33]</td>\n",
              "      <td>Motor racing</td>\n",
              "    </tr>\n",
              "    <tr>\n",
              "      <th>33</th>\n",
              "      <td>Space Jam</td>\n",
              "      <td>1996</td>\n",
              "      <td>$230,418,342</td>\n",
              "      <td>[34]</td>\n",
              "      <td>Basketball</td>\n",
              "    </tr>\n",
              "    <tr>\n",
              "      <th>34</th>\n",
              "      <td>Ford v Ferrari</td>\n",
              "      <td>2019</td>\n",
              "      <td>$225,508,210</td>\n",
              "      <td>[35]</td>\n",
              "      <td>Motor racing</td>\n",
              "    </tr>\n",
              "    <tr>\n",
              "      <th>35</th>\n",
              "      <td>Rocky</td>\n",
              "      <td>1976</td>\n",
              "      <td>$225,000,000</td>\n",
              "      <td>[36]</td>\n",
              "      <td>Boxing</td>\n",
              "    </tr>\n",
              "    <tr>\n",
              "      <th>36</th>\n",
              "      <td>Million Dollar Baby</td>\n",
              "      <td>2004</td>\n",
              "      <td>$216,763,646</td>\n",
              "      <td>[37]</td>\n",
              "      <td>Boxing</td>\n",
              "    </tr>\n",
              "    <tr>\n",
              "      <th>37</th>\n",
              "      <td>Creed II</td>\n",
              "      <td>2018</td>\n",
              "      <td>$214,115,889</td>\n",
              "      <td>[38]</td>\n",
              "      <td>Boxing</td>\n",
              "    </tr>\n",
              "    <tr>\n",
              "      <th>38</th>\n",
              "      <td>The Fast and the Furious</td>\n",
              "      <td>2001</td>\n",
              "      <td>$207,283,925</td>\n",
              "      <td>[39]</td>\n",
              "      <td>Motor racing</td>\n",
              "    </tr>\n",
              "    <tr>\n",
              "      <th>39</th>\n",
              "      <td>Rocky II</td>\n",
              "      <td>1979</td>\n",
              "      <td>$200,182,160</td>\n",
              "      <td>[36]</td>\n",
              "      <td>Boxing</td>\n",
              "    </tr>\n",
              "    <tr>\n",
              "      <th>40</th>\n",
              "      <td>The Longest Yard</td>\n",
              "      <td>2005</td>\n",
              "      <td>$190,320,568</td>\n",
              "      <td>[40]</td>\n",
              "      <td>American football</td>\n",
              "    </tr>\n",
              "    <tr>\n",
              "      <th>41</th>\n",
              "      <td>The Waterboy</td>\n",
              "      <td>1998</td>\n",
              "      <td>$185,991,646</td>\n",
              "      <td>[41]</td>\n",
              "      <td>American football</td>\n",
              "    </tr>\n",
              "    <tr>\n",
              "      <th>42</th>\n",
              "      <td>Ip Man 4: The Finale</td>\n",
              "      <td>2019</td>\n",
              "      <td>$176,345,966</td>\n",
              "      <td>[42]</td>\n",
              "      <td>Martial arts</td>\n",
              "    </tr>\n",
              "    <tr>\n",
              "      <th>43</th>\n",
              "      <td>Creed</td>\n",
              "      <td>2015</td>\n",
              "      <td>$173,567,581</td>\n",
              "      <td>[43]</td>\n",
              "      <td>Boxing</td>\n",
              "    </tr>\n",
              "    <tr>\n",
              "      <th>44</th>\n",
              "      <td>Dodgeball: A True Underdog Story</td>\n",
              "      <td>2004</td>\n",
              "      <td>$167,722,310</td>\n",
              "      <td>[44]</td>\n",
              "      <td>Dodgeball</td>\n",
              "    </tr>\n",
              "    <tr>\n",
              "      <th>45</th>\n",
              "      <td>Talladega Nights: The Ballad of Ricky Bobby</td>\n",
              "      <td>2006</td>\n",
              "      <td>$162,966,177</td>\n",
              "      <td>[45]</td>\n",
              "      <td>Motor racing</td>\n",
              "    </tr>\n",
              "    <tr>\n",
              "      <th>46</th>\n",
              "      <td>The Cannonball Run</td>\n",
              "      <td>1981</td>\n",
              "      <td>$160,000,000</td>\n",
              "      <td>[46]</td>\n",
              "      <td>Motor racing</td>\n",
              "    </tr>\n",
              "    <tr>\n",
              "      <th>47</th>\n",
              "      <td>21</td>\n",
              "      <td>2008</td>\n",
              "      <td>$159,808,370</td>\n",
              "      <td>[47]</td>\n",
              "      <td>Gambling</td>\n",
              "    </tr>\n",
              "    <tr>\n",
              "      <th>48</th>\n",
              "      <td>The Fast and the Furious: Tokyo Drift</td>\n",
              "      <td>2006</td>\n",
              "      <td>$158,468,292</td>\n",
              "      <td>[48]</td>\n",
              "      <td>Drifting</td>\n",
              "    </tr>\n",
              "    <tr>\n",
              "      <th>49</th>\n",
              "      <td>Ip Man 3</td>\n",
              "      <td>2015</td>\n",
              "      <td>$157,300,954</td>\n",
              "      <td>[49]</td>\n",
              "      <td>Martial arts</td>\n",
              "    </tr>\n",
              "  </tbody>\n",
              "</table>\n",
              "</div>"
            ],
            "text/plain": [
              "                                           Film  ...                       Sport(s)\n",
              "0                                     Furious 7  ...                   Motor racing\n",
              "1                       The Fate of the Furious  ...                   Motor racing\n",
              "2               The Hunger Games: Catching Fire  ...                  Battle royale\n",
              "3                              Fast & Furious 6  ...                   Motor racing\n",
              "4         The Hunger Games: Mockingjay – Part 1  ...                  Battle royale\n",
              "5                              The Hunger Games  ...                  Battle royale\n",
              "6                                  Forrest Gump  ...  American football / ping pong\n",
              "7         The Hunger Games: Mockingjay – Part 2  ...                  Battle royale\n",
              "8                                     Fast Five  ...                   Motor racing\n",
              "9                                 Casino Royale  ...                       Gambling\n",
              "10                             Ready Player One  ...                        E-sport\n",
              "11                                       Cars 2  ...                   Motor racing\n",
              "12                                         Cars  ...                   Motor racing\n",
              "13                                    Gladiator  ...            Gladiatorial combat\n",
              "14                          Alita: Battle Angel  ...   Battle royale / motor racing\n",
              "15                                       Cars 3  ...                   Motor racing\n",
              "16                          Slumdog Millionaire  ...                      Game show\n",
              "17                               Fast & Furious  ...                   Motor racing\n",
              "18                               The Karate Kid  ...                   Martial arts\n",
              "19                             Enter the Dragon  ...                   Martial arts\n",
              "20                   XXX: Return of Xander Cage  ...                 Extreme sports\n",
              "21                                       Dangal  ...                      Wrestling\n",
              "22                               The Blind Side  ...              American football\n",
              "23                                     Rocky IV  ...                         Boxing\n",
              "24                        Smokey and the Bandit  ...                   Motor racing\n",
              "25                                   Real Steel  ...                         Boxing\n",
              "26                                        Turbo  ...                   Motor racing\n",
              "27                                          xXx  ...                 Extreme sports\n",
              "28                                Jerry Maguire  ...              American football\n",
              "29                                    Rocky III  ...                         Boxing\n",
              "30                                       Planes  ...                     Air racing\n",
              "31                         Saturday Night Fever  ...              Dance competition\n",
              "32                             2 Fast 2 Furious  ...                   Motor racing\n",
              "33                                    Space Jam  ...                     Basketball\n",
              "34                               Ford v Ferrari  ...                   Motor racing\n",
              "35                                        Rocky  ...                         Boxing\n",
              "36                          Million Dollar Baby  ...                         Boxing\n",
              "37                                     Creed II  ...                         Boxing\n",
              "38                     The Fast and the Furious  ...                   Motor racing\n",
              "39                                     Rocky II  ...                         Boxing\n",
              "40                             The Longest Yard  ...              American football\n",
              "41                                 The Waterboy  ...              American football\n",
              "42                         Ip Man 4: The Finale  ...                   Martial arts\n",
              "43                                        Creed  ...                         Boxing\n",
              "44             Dodgeball: A True Underdog Story  ...                      Dodgeball\n",
              "45  Talladega Nights: The Ballad of Ricky Bobby  ...                   Motor racing\n",
              "46                           The Cannonball Run  ...                   Motor racing\n",
              "47                                           21  ...                       Gambling\n",
              "48        The Fast and the Furious: Tokyo Drift  ...                       Drifting\n",
              "49                                     Ip Man 3  ...                   Martial arts\n",
              "\n",
              "[50 rows x 5 columns]"
            ]
          },
          "metadata": {
            "tags": []
          },
          "execution_count": 17
        }
      ]
    },
    {
      "cell_type": "code",
      "metadata": {
        "colab": {
          "base_uri": "https://localhost:8080/"
        },
        "id": "Viaf4y7zY2p9",
        "outputId": "f5fbe678-a5a9-45c1-dc64-241effd986d9"
      },
      "source": [
        "df['Worldwide gross']=df['Worldwide gross'].str.replace(r\"$\", \"\").str.replace(r\",\",\"\")\n",
        "df['Worldwide gross']= df['Worldwide gross'].astype('int64')\n",
        "df.info()"
      ],
      "execution_count": 20,
      "outputs": [
        {
          "output_type": "stream",
          "text": [
            "<class 'pandas.core.frame.DataFrame'>\n",
            "RangeIndex: 50 entries, 0 to 49\n",
            "Data columns (total 5 columns):\n",
            " #   Column           Non-Null Count  Dtype \n",
            "---  ------           --------------  ----- \n",
            " 0   Film             50 non-null     object\n",
            " 1   Year             50 non-null     int64 \n",
            " 2   Worldwide gross  50 non-null     int64 \n",
            " 3   Ref              50 non-null     object\n",
            " 4   Sport(s)         50 non-null     object\n",
            "dtypes: int64(2), object(3)\n",
            "memory usage: 2.1+ KB\n"
          ],
          "name": "stdout"
        }
      ]
    },
    {
      "cell_type": "code",
      "metadata": {
        "colab": {
          "base_uri": "https://localhost:8080/"
        },
        "id": "QycLgbwiYocf",
        "outputId": "13122477-03c4-4c76-aeaf-9e3968b6d920"
      },
      "source": [
        "data = df['Worldwide gross']\n",
        "print('mean=%.3f stdv=%.3f' %(mean(data), std(data)))"
      ],
      "execution_count": 21,
      "outputs": [
        {
          "output_type": "stream",
          "text": [
            "mean=393248240.380 stdv=275488096.614\n"
          ],
          "name": "stdout"
        }
      ]
    },
    {
      "cell_type": "markdown",
      "metadata": {
        "id": "WL6biAyrWr6U"
      },
      "source": [
        "## Визуальные проверки нормальности"
      ]
    },
    {
      "cell_type": "markdown",
      "metadata": {
        "id": "986euo6WWr6V"
      },
      "source": [
        "### График гистограммы"
      ]
    },
    {
      "cell_type": "code",
      "metadata": {
        "colab": {
          "base_uri": "https://localhost:8080/",
          "height": 281
        },
        "id": "CUXrCVHCWr6V",
        "outputId": "4d8ae687-609e-4a7c-96de-69a37f16da5e"
      },
      "source": [
        "from matplotlib import pyplot\n",
        "\n",
        "pyplot.hist(data)\n",
        "pyplot.show()"
      ],
      "execution_count": 22,
      "outputs": [
        {
          "output_type": "display_data",
          "data": {
            "image/png": "[encoded data removed]",
            "text/plain": [
              "<Figure size 432x288 with 1 Axes>"
            ]
          },
          "metadata": {
            "tags": [],
            "needs_background": "light"
          }
        }
      ]
    },
    {
      "cell_type": "markdown",
      "metadata": {
        "id": "tZFmnOs3Wr6X"
      },
      "source": [
        "При выполнении примера создается график гистограммы, показывающий\n",
        "количество наблюдений в каждом бине. Мы можем видеть гауссовидную форму данных,\n",
        "которая, хотя и не сильно знакома в форме колокола, является грубым приближением."
      ]
    },
    {
      "cell_type": "markdown",
      "metadata": {
        "id": "qcAWmffkWr6Y"
      },
      "source": [
        "### Квантиль-Квантиль Участок"
      ]
    },
    {
      "cell_type": "code",
      "metadata": {
        "colab": {
          "base_uri": "https://localhost:8080/",
          "height": 290
        },
        "id": "cp2gK2srWr6Z",
        "outputId": "6c54ce61-fdc3-4794-a449-b05922aa3eff"
      },
      "source": [
        "from statsmodels.graphics.gofplots import qqplot\n",
        "\n",
        "qqplot(data, line='s')\n",
        "pyplot.show()"
      ],
      "execution_count": 23,
      "outputs": [
        {
          "output_type": "display_data",
          "data": {
            "image/png": "[encoded data removed]",
            "text/plain": [
              "<Figure size 432x288 with 1 Axes>"
            ]
          },
          "metadata": {
            "tags": [],
            "needs_background": "light"
          }
        }
      ]
    },
    {
      "cell_type": "markdown",
      "metadata": {
        "id": "GFFVg7cdWr6a"
      },
      "source": [
        "При выполнении примера создается график QQ, показывающий график рассеяния\n",
        "точек в диагональной линии, который точно соответствует ожидаемому диагональному\n",
        "шаблону для выборки из распределения Гаусса.\n",
        "Есть несколько небольших отклонений, особенно в нижней части графика, что и\n",
        "следовало ожидать, учитывая небольшую выборку данных."
      ]
    },
    {
      "cell_type": "markdown",
      "metadata": {
        "id": "w5UnN-FtWr6b"
      },
      "source": [
        "## Статистические тесты нормальности"
      ]
    },
    {
      "cell_type": "markdown",
      "metadata": {
        "id": "vmHT_k6dWr6c"
      },
      "source": [
        "### Тест Шапиро-Вилка"
      ]
    },
    {
      "cell_type": "code",
      "metadata": {
        "colab": {
          "base_uri": "https://localhost:8080/"
        },
        "id": "FadShwgDWr6c",
        "outputId": "a179ffc9-0ae1-4504-b192-7010e018d8e7"
      },
      "source": [
        "from scipy.stats import shapiro\n",
        "\n",
        "stat, p = shapiro(data)\n",
        "print('Statistics=%.3f, p=%.3f' % (stat, p))\n",
        "alpha = 0.05\n",
        "if p > alpha:\n",
        "  print('Sample looks Gaussian (fail to reject H0)')\n",
        "else:\n",
        "  print('Sample doesnt look Gaussian (regect H0)')"
      ],
      "execution_count": 24,
      "outputs": [
        {
          "output_type": "stream",
          "text": [
            "Statistics=0.765, p=0.000\n",
            "Sample doesnt look Gaussian (regect H0)\n"
          ],
          "name": "stdout"
        }
      ]
    },
    {
      "cell_type": "markdown",
      "metadata": {
        "id": "TbRjSsVSWr6d"
      },
      "source": [
        "При выполнении примера сначала вычисляется тест для выборки данных, затем\n",
        "выводится статистика и вычисленное значение p.\n",
        "Значение p интересует и находит, что данные, скорее всего, взяты из гауссовского\n",
        "распределения."
      ]
    },
    {
      "cell_type": "markdown",
      "metadata": {
        "id": "RVWCLDEdWr6e"
      },
      "source": [
        "### Тест д'Агостино на K ^ 2"
      ]
    },
    {
      "cell_type": "code",
      "metadata": {
        "colab": {
          "base_uri": "https://localhost:8080/"
        },
        "id": "5sbhER3QWr6f",
        "outputId": "7f66be96-31f6-4169-96db-cd650a9eca4a"
      },
      "source": [
        "from scipy.stats import normaltest\n",
        "\n",
        "stat, p = normaltest(data)\n",
        "print('Statistics=%.3f, p=%.3f' % (stat, p))\n",
        "alpha = 0.05\n",
        "if p > alpha:\n",
        "  print('Sample looks Gaussian (fail to reject H0)')\n",
        "else:\n",
        "  print('Sample doesnt look Gaussian (regect H0)')"
      ],
      "execution_count": 25,
      "outputs": [
        {
          "output_type": "stream",
          "text": [
            "Statistics=35.403, p=0.000\n",
            "Sample doesnt look Gaussian (regect H0)\n"
          ],
          "name": "stdout"
        }
      ]
    },
    {
      "cell_type": "markdown",
      "metadata": {
        "id": "9MM5Db2JWr6g"
      },
      "source": [
        "При выполнении примера вычисляется статистика и печатается статистика и\n",
        "значение p. Значение p интерпретируется по отношению к альфа 5% и обнаруживает, что\n",
        "тестовый набор данных не отличается значительно от нормального."
      ]
    },
    {
      "cell_type": "markdown",
      "metadata": {
        "id": "gMPk5k0iWr6h"
      },
      "source": [
        "### Тест Андерсона-Дарлинга"
      ]
    },
    {
      "cell_type": "code",
      "metadata": {
        "colab": {
          "base_uri": "https://localhost:8080/"
        },
        "id": "J9nMhaAuWr6h",
        "outputId": "bee9e273-164b-4b67-e8fd-37b849fe9cce"
      },
      "source": [
        "from scipy.stats import anderson\n",
        "\n",
        "result = anderson(data)\n",
        "print('Statistics=%.3f' % result.statistic)\n",
        "p = 0\n",
        "for i in range(len(result.critical_values)):\n",
        "  sl, cv = result.significance_level[1], result.critical_values[1]\n",
        "  if result.statistic < result.critical_values[1]:\n",
        "    print('%.3f: %.3f, data looks normal (fail to reject H0)' % (sl, cv))\n",
        "  else:\n",
        "    print('%.3f: %.3f, data doestn look normal (reject H0)' % (sl, cv))"
      ],
      "execution_count": 26,
      "outputs": [
        {
          "output_type": "stream",
          "text": [
            "Statistics=3.436\n",
            "10.000: 0.613, data doestn look normal (reject H0)\n",
            "10.000: 0.613, data doestn look normal (reject H0)\n",
            "10.000: 0.613, data doestn look normal (reject H0)\n",
            "10.000: 0.613, data doestn look normal (reject H0)\n",
            "10.000: 0.613, data doestn look normal (reject H0)\n"
          ],
          "name": "stdout"
        }
      ]
    },
    {
      "cell_type": "markdown",
      "metadata": {
        "id": "hnORZtEtWr6i"
      },
      "source": [
        "При выполнении примера вычисляется статистика по набору тестовых данных и\n",
        "выводятся критические значения.\n",
        "Критические значения в статистическом тесте - это диапазон предварительно\n",
        "определенных границ значимости, при которых H0 может быть отклонен, если расчетная\n",
        "статистика меньше критического значения. Вместо простого значения p тест возвращает\n",
        "критическое значение для диапазона различных обычно используемых уровней\n",
        "значимости.\n",
        "Существует возможность интерпретировать результаты, не сумев отвергнуть\n",
        "нулевую гипотезу о том, что данные являются нормальными, если рассчитанная статистика\n",
        "теста меньше критического значения на выбранном уровне значимости.\n",
        "На каждом уровне значимости тест обнаружил, что данные соответствуют нормальному\n",
        "распределению"
      ]
    }
  ]
}