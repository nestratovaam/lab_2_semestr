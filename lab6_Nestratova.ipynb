{
  "nbformat": 4,
  "nbformat_minor": 0,
  "metadata": {
    "colab": {
      "name": "lab6_Nestratova.ipynb",
      "provenance": [],
      "collapsed_sections": [],
      "authorship_tag": "ABX9TyOlLLTAAJSBZY6/azklhz4i",
      "include_colab_link": true
    },
    "kernelspec": {
      "name": "python3",
      "display_name": "Python 3"
    },
    "language_info": {
      "name": "python"
    }
  },
  "cells": [
    {
      "cell_type": "markdown",
      "metadata": {
        "id": "view-in-github",
        "colab_type": "text"
      },
      "source": [
        "<a href=\"https://colab.research.google.com/github/nestratovaam/lab_2_semestr/blob/main/lab6_Nestratova.ipynb\" target=\"_parent\"><img src=\"https://colab.research.google.com/assets/colab-badge.svg\" alt=\"Open In Colab\"/></a>"
      ]
    },
    {
      "cell_type": "markdown",
      "metadata": {
        "id": "SfLdZyEoP61W"
      },
      "source": [
        "# Тестовый набор данных"
      ]
    },
    {
      "cell_type": "code",
      "metadata": {
        "colab": {
          "base_uri": "https://localhost:8080/"
        },
        "id": "gN9ZWExWNkh0",
        "outputId": "4b7e5645-e71d-436f-cbd3-4487facf735e"
      },
      "source": [
        "from numpy.random import seed\n",
        "from numpy.random import randn\n",
        "from numpy import mean\n",
        "from numpy import std\n",
        "\n",
        "seed(1)\n",
        "data = 5 * randn(100) + 50\n",
        "print('mean=%.3f stdv=%.3f' %(mean(data), std(data)))"
      ],
      "execution_count": null,
      "outputs": [
        {
          "output_type": "stream",
          "text": [
            "mean=50.303 stdv=4.426\n"
          ],
          "name": "stdout"
        }
      ]
    },
    {
      "cell_type": "markdown",
      "metadata": {
        "id": "YImt53H4QCfC"
      },
      "source": [
        "## Визуальные проверки нормальности"
      ]
    },
    {
      "cell_type": "markdown",
      "metadata": {
        "id": "ajfVJCLbQI36"
      },
      "source": [
        "### График гистограммы"
      ]
    },
    {
      "cell_type": "code",
      "metadata": {
        "colab": {
          "base_uri": "https://localhost:8080/",
          "height": 264
        },
        "id": "aA9mVXzgQG5Q",
        "outputId": "930869d9-411b-404d-bfc9-3dd14413fb01"
      },
      "source": [
        "from matplotlib import pyplot\n",
        "\n",
        "pyplot.hist(data)\n",
        "pyplot.show()"
      ],
      "execution_count": null,
      "outputs": [
        {
          "output_type": "display_data",
          "data": {
            "image/png": "[encoded data removed]",
            "text/plain": [
              "<Figure size 432x288 with 1 Axes>"
            ]
          },
          "metadata": {
            "tags": [],
            "needs_background": "light"
          }
        }
      ]
    },
    {
      "cell_type": "markdown",
      "metadata": {
        "id": "_JZ4HJMKQyQ5"
      },
      "source": [
        "При выполнении примера создается график гистограммы, показывающий\n",
        "количество наблюдений в каждом бине. Мы можем видеть гауссовидную форму данных,\n",
        "которая, хотя и не сильно знакома в форме колокола, является грубым приближением."
      ]
    },
    {
      "cell_type": "markdown",
      "metadata": {
        "id": "oP0OoAZfQ0AB"
      },
      "source": [
        "### Квантиль-Квантиль Участок"
      ]
    },
    {
      "cell_type": "code",
      "metadata": {
        "colab": {
          "base_uri": "https://localhost:8080/",
          "height": 278
        },
        "id": "ZvqU1K24Q_9B",
        "outputId": "7cdbde4a-c5a9-4a1f-ca10-73fabd0f281f"
      },
      "source": [
        "from statsmodels.graphics.gofplots import qqplot\n",
        "\n",
        "qqplot(data, line='s')\n",
        "pyplot.show()"
      ],
      "execution_count": null,
      "outputs": [
        {
          "output_type": "display_data",
          "data": {
            "image/png": "[encoded data removed]",
            "text/plain": [
              "<Figure size 432x288 with 1 Axes>"
            ]
          },
          "metadata": {
            "tags": [],
            "needs_background": "light"
          }
        }
      ]
    },
    {
      "cell_type": "markdown",
      "metadata": {
        "id": "eCtsC-SUQ_AU"
      },
      "source": [
        "При выполнении примера создается график QQ, показывающий график рассеяния\n",
        "точек в диагональной линии, который точно соответствует ожидаемому диагональному\n",
        "шаблону для выборки из распределения Гаусса.\n",
        "Есть несколько небольших отклонений, особенно в нижней части графика, что и\n",
        "следовало ожидать, учитывая небольшую выборку данных."
      ]
    },
    {
      "cell_type": "markdown",
      "metadata": {
        "id": "usbLfQMKRiYQ"
      },
      "source": [
        "## Статистические тесты нормальности"
      ]
    },
    {
      "cell_type": "markdown",
      "metadata": {
        "id": "TlIqcmaZRwJ9"
      },
      "source": [
        "### Тест Шапиро-Вилка"
      ]
    },
    {
      "cell_type": "code",
      "metadata": {
        "colab": {
          "base_uri": "https://localhost:8080/"
        },
        "id": "EYVvjBS1RxwO",
        "outputId": "ef80fcf1-0047-47e6-fad3-19c06763e843"
      },
      "source": [
        "from scipy.stats import shapiro\n",
        "\n",
        "stat, p = shapiro(data)\n",
        "print('Statistics=%.3f, p=%.3f' % (stat, p))\n",
        "alpha = 0.05\n",
        "if p > alpha:\n",
        "  print('Sample looks Gaussian (fail to reject H0)')\n",
        "else:\n",
        "  print('Sample doesnt look Gaussian (regect H0)')"
      ],
      "execution_count": null,
      "outputs": [
        {
          "output_type": "stream",
          "text": [
            "Statistics=0.992, p=0.822\n",
            "Sample looks Gaussian (fail to reject H0)\n"
          ],
          "name": "stdout"
        }
      ]
    },
    {
      "cell_type": "markdown",
      "metadata": {
        "id": "0Yo5tiX4S910"
      },
      "source": [
        "При выполнении примера сначала вычисляется тест для выборки данных, затем\n",
        "выводится статистика и вычисленное значение p.\n",
        "Значение p интересует и находит, что данные, скорее всего, взяты из гауссовского\n",
        "распределения."
      ]
    },
    {
      "cell_type": "markdown",
      "metadata": {
        "id": "p4J_u74oS_fS"
      },
      "source": [
        "### Тест д'Агостино на K ^ 2"
      ]
    },
    {
      "cell_type": "code",
      "metadata": {
        "colab": {
          "base_uri": "https://localhost:8080/"
        },
        "id": "Mk7EXOzJTD89",
        "outputId": "1a4843e0-6a93-43b0-8ca9-b825db316cde"
      },
      "source": [
        "from scipy.stats import normaltest\n",
        "\n",
        "stat, p = normaltest(data)\n",
        "print('Statistics=%.3f, p=%.3f' % (stat, p))\n",
        "alpha = 0.05\n",
        "if p > alpha:\n",
        "  print('Sample looks Gaussian (fail to reject H0)')\n",
        "else:\n",
        "  print('Sample doesnt look Gaussian (regect H0)')"
      ],
      "execution_count": null,
      "outputs": [
        {
          "output_type": "stream",
          "text": [
            "Statistics=0.102, p=0.950\n",
            "Sample looks Gaussian (fail to reject H0)\n"
          ],
          "name": "stdout"
        }
      ]
    },
    {
      "cell_type": "markdown",
      "metadata": {
        "id": "lr1elJ8yTYW2"
      },
      "source": [
        "При выполнении примера вычисляется статистика и печатается статистика и\n",
        "значение p. Значение p интерпретируется по отношению к альфа 5% и обнаруживает, что\n",
        "тестовый набор данных не отличается значительно от нормального."
      ]
    },
    {
      "cell_type": "markdown",
      "metadata": {
        "id": "HyKfaEGaTZ2v"
      },
      "source": [
        "### Тест Андерсона-Дарлинга"
      ]
    },
    {
      "cell_type": "code",
      "metadata": {
        "colab": {
          "base_uri": "https://localhost:8080/"
        },
        "id": "qyvZs7rmTcir",
        "outputId": "5021e54a-a93e-4085-a817-18b2b9444337"
      },
      "source": [
        "from scipy.stats import anderson\n",
        "\n",
        "result = anderson(data)\n",
        "print('Statistics=%.3f' % result.statistic)\n",
        "p = 0\n",
        "for i in range(len(result.critical_values)):\n",
        "  sl, cv = result.significance_level[1], result.critical_values[1]\n",
        "  if result.statistic < result.critical_values[1]:\n",
        "    print('%.3f: %.3f, data looks normal (fail to reject H0)' % (sl, cv))\n",
        "  else:\n",
        "    print('%.3f: %.3f, data doestn look normal (reject H0)' % (sl, cv))"
      ],
      "execution_count": null,
      "outputs": [
        {
          "output_type": "stream",
          "text": [
            "Statistics=0.220\n",
            "10.000: 0.632, data looks normal (fail to reject H0)\n",
            "10.000: 0.632, data looks normal (fail to reject H0)\n",
            "10.000: 0.632, data looks normal (fail to reject H0)\n",
            "10.000: 0.632, data looks normal (fail to reject H0)\n",
            "10.000: 0.632, data looks normal (fail to reject H0)\n"
          ],
          "name": "stdout"
        }
      ]
    },
    {
      "cell_type": "markdown",
      "metadata": {
        "id": "HbRIDYC6Vcku"
      },
      "source": [
        "При выполнении примера вычисляется статистика по набору тестовых данных и\n",
        "выводятся критические значения.\n",
        "Критические значения в статистическом тесте - это диапазон предварительно\n",
        "определенных границ значимости, при которых H0 может быть отклонен, если расчетная\n",
        "статистика меньше критического значения. Вместо простого значения p тест возвращает\n",
        "критическое значение для диапазона различных обычно используемых уровней\n",
        "значимости.\n",
        "Существует возможность интерпретировать результаты, не сумев отвергнуть\n",
        "нулевую гипотезу о том, что данные являются нормальными, если рассчитанная статистика\n",
        "теста меньше критического значения на выбранном уровне значимости.\n",
        "На каждом уровне значимости тест обнаружил, что данные соответствуют нормальному\n",
        "распределению"
      ]
    },
    {
      "cell_type": "markdown",
      "metadata": {
        "id": "G0TY5qRRVesg"
      },
      "source": [
        "# **Индивидуальное задание**"
      ]
    },
    {
      "cell_type": "markdown",
      "metadata": {
        "id": "fUnQiUfKVzMu"
      },
      "source": [
        "**Вариант 21.**  использование данных с веб-страницы,\n",
        "обеспечивающей информацией о самых кассовых фильмах по жанру спортивные фильмы.\n",
        "\n"
      ]
    },
    {
      "cell_type": "code",
      "metadata": {
        "colab": {
          "base_uri": "https://localhost:8080/",
          "height": 1000
        },
        "id": "6vUpa-LIWr6R",
        "outputId": "84078ca1-f904-4297-c241-e885427eeefa"
      },
      "source": [
        "from numpy import mean\n",
        "from numpy import std\n",
        "\n",
        "#importing the libraries\n",
        "import requests\n",
        "import pandas as pd\n",
        "import seaborn as sns\n",
        "import matplotlib.pyplot as plt\n",
        "#Importing the data from the webpage into a DataFrame\n",
        "url='https://en.wikipedia.org/wiki/List_of_highest-grossing_sports_films'\n",
        "req=requests.get(url)\n",
        "data=pd.read_html(req.text)\n",
        "df=data[3]\n",
        "df"
      ],
      "execution_count": 11,
      "outputs": [
        {
          "output_type": "execute_result",
          "data": {
            "text/html": [
              "<div>\n",
              "<style scoped>\n",
              "    .dataframe tbody tr th:only-of-type {\n",
              "        vertical-align: middle;\n",
              "    }\n",
              "\n",
              "    .dataframe tbody tr th {\n",
              "        vertical-align: top;\n",
              "    }\n",
              "\n",
              "    .dataframe thead th {\n",
              "        text-align: right;\n",
              "    }\n",
              "</style>\n",
              "<table border=\"1\" class=\"dataframe\">\n",
              "  <thead>\n",
              "    <tr style=\"text-align: right;\">\n",
              "      <th></th>\n",
              "      <th>Film</th>\n",
              "      <th>Year</th>\n",
              "      <th>Worldwide gross</th>\n",
              "      <th>Ref</th>\n",
              "      <th>Sport(s)</th>\n",
              "    </tr>\n",
              "  </thead>\n",
              "  <tbody>\n",
              "    <tr>\n",
              "      <th>0</th>\n",
              "      <td>Furious 7</td>\n",
              "      <td>2015</td>\n",
              "      <td>$1,516,045,911</td>\n",
              "      <td>[1]</td>\n",
              "      <td>Motor racing</td>\n",
              "    </tr>\n",
              "    <tr>\n",
              "      <th>1</th>\n",
              "      <td>The Fate of the Furious</td>\n",
              "      <td>2017</td>\n",
              "      <td>$1,238,764,765</td>\n",
              "      <td>[2]</td>\n",
              "      <td>Motor racing</td>\n",
              "    </tr>\n",
              "    <tr>\n",
              "      <th>2</th>\n",
              "      <td>The Hunger Games: Catching Fire</td>\n",
              "      <td>2013</td>\n",
              "      <td>$865,011,746</td>\n",
              "      <td>[3]</td>\n",
              "      <td>Battle royale</td>\n",
              "    </tr>\n",
              "    <tr>\n",
              "      <th>3</th>\n",
              "      <td>Fast &amp; Furious 6</td>\n",
              "      <td>2013</td>\n",
              "      <td>$788,679,850</td>\n",
              "      <td>[4]</td>\n",
              "      <td>Motor racing</td>\n",
              "    </tr>\n",
              "    <tr>\n",
              "      <th>4</th>\n",
              "      <td>The Hunger Games: Mockingjay – Part 1</td>\n",
              "      <td>2014</td>\n",
              "      <td>$755,356,711</td>\n",
              "      <td>[5]</td>\n",
              "      <td>Battle royale</td>\n",
              "    </tr>\n",
              "    <tr>\n",
              "      <th>5</th>\n",
              "      <td>The Hunger Games</td>\n",
              "      <td>2012</td>\n",
              "      <td>$694,394,724</td>\n",
              "      <td>[6]</td>\n",
              "      <td>Battle royale</td>\n",
              "    </tr>\n",
              "    <tr>\n",
              "      <th>6</th>\n",
              "      <td>Forrest Gump</td>\n",
              "      <td>1994</td>\n",
              "      <td>$678,222,284</td>\n",
              "      <td>[7]</td>\n",
              "      <td>American football / ping pong</td>\n",
              "    </tr>\n",
              "    <tr>\n",
              "      <th>7</th>\n",
              "      <td>The Hunger Games: Mockingjay – Part 2</td>\n",
              "      <td>2015</td>\n",
              "      <td>$653,428,261</td>\n",
              "      <td>[8]</td>\n",
              "      <td>Battle royale</td>\n",
              "    </tr>\n",
              "    <tr>\n",
              "      <th>8</th>\n",
              "      <td>Fast Five</td>\n",
              "      <td>2011</td>\n",
              "      <td>$626,137,675</td>\n",
              "      <td>[9]</td>\n",
              "      <td>Motor racing</td>\n",
              "    </tr>\n",
              "    <tr>\n",
              "      <th>9</th>\n",
              "      <td>Casino Royale</td>\n",
              "      <td>2006</td>\n",
              "      <td>$616,501,619</td>\n",
              "      <td>[10]</td>\n",
              "      <td>Gambling</td>\n",
              "    </tr>\n",
              "    <tr>\n",
              "      <th>10</th>\n",
              "      <td>Ready Player One</td>\n",
              "      <td>2018</td>\n",
              "      <td>$582,890,172</td>\n",
              "      <td>[11]</td>\n",
              "      <td>E-sport</td>\n",
              "    </tr>\n",
              "    <tr>\n",
              "      <th>11</th>\n",
              "      <td>Cars 2</td>\n",
              "      <td>2011</td>\n",
              "      <td>$562,110,557</td>\n",
              "      <td>[12]</td>\n",
              "      <td>Motor racing</td>\n",
              "    </tr>\n",
              "    <tr>\n",
              "      <th>12</th>\n",
              "      <td>Cars</td>\n",
              "      <td>2006</td>\n",
              "      <td>$462,216,280</td>\n",
              "      <td>[13]</td>\n",
              "      <td>Motor racing</td>\n",
              "    </tr>\n",
              "    <tr>\n",
              "      <th>13</th>\n",
              "      <td>Gladiator</td>\n",
              "      <td>2000</td>\n",
              "      <td>$460,583,960</td>\n",
              "      <td>[14]</td>\n",
              "      <td>Gladiatorial combat</td>\n",
              "    </tr>\n",
              "    <tr>\n",
              "      <th>14</th>\n",
              "      <td>Alita: Battle Angel</td>\n",
              "      <td>2019</td>\n",
              "      <td>$404,852,543</td>\n",
              "      <td>[15]</td>\n",
              "      <td>Battle royale / motor racing</td>\n",
              "    </tr>\n",
              "    <tr>\n",
              "      <th>15</th>\n",
              "      <td>Cars 3</td>\n",
              "      <td>2017</td>\n",
              "      <td>$383,930,656</td>\n",
              "      <td>[16]</td>\n",
              "      <td>Motor racing</td>\n",
              "    </tr>\n",
              "    <tr>\n",
              "      <th>16</th>\n",
              "      <td>Slumdog Millionaire</td>\n",
              "      <td>2008</td>\n",
              "      <td>$378,021,385</td>\n",
              "      <td>[17]</td>\n",
              "      <td>Game show</td>\n",
              "    </tr>\n",
              "    <tr>\n",
              "      <th>17</th>\n",
              "      <td>Fast &amp; Furious</td>\n",
              "      <td>2009</td>\n",
              "      <td>$363,164,265</td>\n",
              "      <td>[18]</td>\n",
              "      <td>Motor racing</td>\n",
              "    </tr>\n",
              "    <tr>\n",
              "      <th>18</th>\n",
              "      <td>The Karate Kid</td>\n",
              "      <td>2010</td>\n",
              "      <td>$359,126,022</td>\n",
              "      <td>[19]</td>\n",
              "      <td>Martial arts</td>\n",
              "    </tr>\n",
              "    <tr>\n",
              "      <th>19</th>\n",
              "      <td>Enter the Dragon</td>\n",
              "      <td>1973</td>\n",
              "      <td>$350,000,000</td>\n",
              "      <td>[20]</td>\n",
              "      <td>Martial arts</td>\n",
              "    </tr>\n",
              "    <tr>\n",
              "      <th>20</th>\n",
              "      <td>XXX: Return of Xander Cage</td>\n",
              "      <td>2017</td>\n",
              "      <td>$345,963,851</td>\n",
              "      <td>[21]</td>\n",
              "      <td>Extreme sports</td>\n",
              "    </tr>\n",
              "    <tr>\n",
              "      <th>21</th>\n",
              "      <td>Dangal</td>\n",
              "      <td>2016</td>\n",
              "      <td>$340,000,000</td>\n",
              "      <td>[22]</td>\n",
              "      <td>Wrestling</td>\n",
              "    </tr>\n",
              "    <tr>\n",
              "      <th>22</th>\n",
              "      <td>The Blind Side</td>\n",
              "      <td>2009</td>\n",
              "      <td>$309,208,309</td>\n",
              "      <td>[23]</td>\n",
              "      <td>American football</td>\n",
              "    </tr>\n",
              "    <tr>\n",
              "      <th>23</th>\n",
              "      <td>Rocky IV</td>\n",
              "      <td>1985</td>\n",
              "      <td>$300,473,716</td>\n",
              "      <td>[24]</td>\n",
              "      <td>Boxing</td>\n",
              "    </tr>\n",
              "    <tr>\n",
              "      <th>24</th>\n",
              "      <td>Smokey and the Bandit</td>\n",
              "      <td>1977</td>\n",
              "      <td>$300,000,000</td>\n",
              "      <td>[25]</td>\n",
              "      <td>Motor racing</td>\n",
              "    </tr>\n",
              "    <tr>\n",
              "      <th>25</th>\n",
              "      <td>Real Steel</td>\n",
              "      <td>2011</td>\n",
              "      <td>$299,268,508</td>\n",
              "      <td>[26]</td>\n",
              "      <td>Boxing</td>\n",
              "    </tr>\n",
              "    <tr>\n",
              "      <th>26</th>\n",
              "      <td>Turbo</td>\n",
              "      <td>2013</td>\n",
              "      <td>$282,570,682</td>\n",
              "      <td>[27]</td>\n",
              "      <td>Motor racing</td>\n",
              "    </tr>\n",
              "    <tr>\n",
              "      <th>27</th>\n",
              "      <td>xXx</td>\n",
              "      <td>2002</td>\n",
              "      <td>$277,448,382</td>\n",
              "      <td>[28]</td>\n",
              "      <td>Extreme sports</td>\n",
              "    </tr>\n",
              "    <tr>\n",
              "      <th>28</th>\n",
              "      <td>Jerry Maguire</td>\n",
              "      <td>1996</td>\n",
              "      <td>$273,552,592</td>\n",
              "      <td>[29]</td>\n",
              "      <td>American football</td>\n",
              "    </tr>\n",
              "    <tr>\n",
              "      <th>29</th>\n",
              "      <td>Rocky III</td>\n",
              "      <td>1982</td>\n",
              "      <td>$270,000,000</td>\n",
              "      <td>[30]</td>\n",
              "      <td>Boxing</td>\n",
              "    </tr>\n",
              "    <tr>\n",
              "      <th>30</th>\n",
              "      <td>Planes</td>\n",
              "      <td>2013</td>\n",
              "      <td>$239,258,712</td>\n",
              "      <td>[31]</td>\n",
              "      <td>Air racing</td>\n",
              "    </tr>\n",
              "    <tr>\n",
              "      <th>31</th>\n",
              "      <td>Saturday Night Fever</td>\n",
              "      <td>1977</td>\n",
              "      <td>$237,113,184</td>\n",
              "      <td>[32]</td>\n",
              "      <td>Dance competition</td>\n",
              "    </tr>\n",
              "    <tr>\n",
              "      <th>32</th>\n",
              "      <td>2 Fast 2 Furious</td>\n",
              "      <td>2003</td>\n",
              "      <td>$236,350,661</td>\n",
              "      <td>[33]</td>\n",
              "      <td>Motor racing</td>\n",
              "    </tr>\n",
              "    <tr>\n",
              "      <th>33</th>\n",
              "      <td>Space Jam</td>\n",
              "      <td>1996</td>\n",
              "      <td>$230,418,342</td>\n",
              "      <td>[34]</td>\n",
              "      <td>Basketball</td>\n",
              "    </tr>\n",
              "    <tr>\n",
              "      <th>34</th>\n",
              "      <td>Ford v Ferrari</td>\n",
              "      <td>2019</td>\n",
              "      <td>$225,508,210</td>\n",
              "      <td>[35]</td>\n",
              "      <td>Motor racing</td>\n",
              "    </tr>\n",
              "    <tr>\n",
              "      <th>35</th>\n",
              "      <td>Rocky</td>\n",
              "      <td>1976</td>\n",
              "      <td>$225,000,000</td>\n",
              "      <td>[36]</td>\n",
              "      <td>Boxing</td>\n",
              "    </tr>\n",
              "    <tr>\n",
              "      <th>36</th>\n",
              "      <td>Million Dollar Baby</td>\n",
              "      <td>2004</td>\n",
              "      <td>$216,763,646</td>\n",
              "      <td>[37]</td>\n",
              "      <td>Boxing</td>\n",
              "    </tr>\n",
              "    <tr>\n",
              "      <th>37</th>\n",
              "      <td>Creed II</td>\n",
              "      <td>2018</td>\n",
              "      <td>$214,115,889</td>\n",
              "      <td>[38]</td>\n",
              "      <td>Boxing</td>\n",
              "    </tr>\n",
              "    <tr>\n",
              "      <th>38</th>\n",
              "      <td>The Fast and the Furious</td>\n",
              "      <td>2001</td>\n",
              "      <td>$207,283,925</td>\n",
              "      <td>[39]</td>\n",
              "      <td>Motor racing</td>\n",
              "    </tr>\n",
              "    <tr>\n",
              "      <th>39</th>\n",
              "      <td>Rocky II</td>\n",
              "      <td>1979</td>\n",
              "      <td>$200,182,160</td>\n",
              "      <td>[36]</td>\n",
              "      <td>Boxing</td>\n",
              "    </tr>\n",
              "    <tr>\n",
              "      <th>40</th>\n",
              "      <td>The Longest Yard</td>\n",
              "      <td>2005</td>\n",
              "      <td>$190,320,568</td>\n",
              "      <td>[40]</td>\n",
              "      <td>American football</td>\n",
              "    </tr>\n",
              "    <tr>\n",
              "      <th>41</th>\n",
              "      <td>The Waterboy</td>\n",
              "      <td>1998</td>\n",
              "      <td>$185,991,646</td>\n",
              "      <td>[41]</td>\n",
              "      <td>American football</td>\n",
              "    </tr>\n",
              "    <tr>\n",
              "      <th>42</th>\n",
              "      <td>Ip Man 4: The Finale</td>\n",
              "      <td>2019</td>\n",
              "      <td>$176,345,966</td>\n",
              "      <td>[42]</td>\n",
              "      <td>Martial arts</td>\n",
              "    </tr>\n",
              "    <tr>\n",
              "      <th>43</th>\n",
              "      <td>Creed</td>\n",
              "      <td>2015</td>\n",
              "      <td>$173,567,581</td>\n",
              "      <td>[43]</td>\n",
              "      <td>Boxing</td>\n",
              "    </tr>\n",
              "    <tr>\n",
              "      <th>44</th>\n",
              "      <td>Dodgeball: A True Underdog Story</td>\n",
              "      <td>2004</td>\n",
              "      <td>$167,722,310</td>\n",
              "      <td>[44]</td>\n",
              "      <td>Dodgeball</td>\n",
              "    </tr>\n",
              "    <tr>\n",
              "      <th>45</th>\n",
              "      <td>Talladega Nights: The Ballad of Ricky Bobby</td>\n",
              "      <td>2006</td>\n",
              "      <td>$162,966,177</td>\n",
              "      <td>[45]</td>\n",
              "      <td>Motor racing</td>\n",
              "    </tr>\n",
              "    <tr>\n",
              "      <th>46</th>\n",
              "      <td>The Cannonball Run</td>\n",
              "      <td>1981</td>\n",
              "      <td>$160,000,000</td>\n",
              "      <td>[46]</td>\n",
              "      <td>Motor racing</td>\n",
              "    </tr>\n",
              "    <tr>\n",
              "      <th>47</th>\n",
              "      <td>21</td>\n",
              "      <td>2008</td>\n",
              "      <td>$159,808,370</td>\n",
              "      <td>[47]</td>\n",
              "      <td>Gambling</td>\n",
              "    </tr>\n",
              "    <tr>\n",
              "      <th>48</th>\n",
              "      <td>The Fast and the Furious: Tokyo Drift</td>\n",
              "      <td>2006</td>\n",
              "      <td>$158,468,292</td>\n",
              "      <td>[48]</td>\n",
              "      <td>Drifting</td>\n",
              "    </tr>\n",
              "    <tr>\n",
              "      <th>49</th>\n",
              "      <td>Ip Man 3</td>\n",
              "      <td>2015</td>\n",
              "      <td>$157,300,954</td>\n",
              "      <td>[49]</td>\n",
              "      <td>Martial arts</td>\n",
              "    </tr>\n",
              "  </tbody>\n",
              "</table>\n",
              "</div>"
            ],
            "text/plain": [
              "                                           Film  ...                       Sport(s)\n",
              "0                                     Furious 7  ...                   Motor racing\n",
              "1                       The Fate of the Furious  ...                   Motor racing\n",
              "2               The Hunger Games: Catching Fire  ...                  Battle royale\n",
              "3                              Fast & Furious 6  ...                   Motor racing\n",
              "4         The Hunger Games: Mockingjay – Part 1  ...                  Battle royale\n",
              "5                              The Hunger Games  ...                  Battle royale\n",
              "6                                  Forrest Gump  ...  American football / ping pong\n",
              "7         The Hunger Games: Mockingjay – Part 2  ...                  Battle royale\n",
              "8                                     Fast Five  ...                   Motor racing\n",
              "9                                 Casino Royale  ...                       Gambling\n",
              "10                             Ready Player One  ...                        E-sport\n",
              "11                                       Cars 2  ...                   Motor racing\n",
              "12                                         Cars  ...                   Motor racing\n",
              "13                                    Gladiator  ...            Gladiatorial combat\n",
              "14                          Alita: Battle Angel  ...   Battle royale / motor racing\n",
              "15                                       Cars 3  ...                   Motor racing\n",
              "16                          Slumdog Millionaire  ...                      Game show\n",
              "17                               Fast & Furious  ...                   Motor racing\n",
              "18                               The Karate Kid  ...                   Martial arts\n",
              "19                             Enter the Dragon  ...                   Martial arts\n",
              "20                   XXX: Return of Xander Cage  ...                 Extreme sports\n",
              "21                                       Dangal  ...                      Wrestling\n",
              "22                               The Blind Side  ...              American football\n",
              "23                                     Rocky IV  ...                         Boxing\n",
              "24                        Smokey and the Bandit  ...                   Motor racing\n",
              "25                                   Real Steel  ...                         Boxing\n",
              "26                                        Turbo  ...                   Motor racing\n",
              "27                                          xXx  ...                 Extreme sports\n",
              "28                                Jerry Maguire  ...              American football\n",
              "29                                    Rocky III  ...                         Boxing\n",
              "30                                       Planes  ...                     Air racing\n",
              "31                         Saturday Night Fever  ...              Dance competition\n",
              "32                             2 Fast 2 Furious  ...                   Motor racing\n",
              "33                                    Space Jam  ...                     Basketball\n",
              "34                               Ford v Ferrari  ...                   Motor racing\n",
              "35                                        Rocky  ...                         Boxing\n",
              "36                          Million Dollar Baby  ...                         Boxing\n",
              "37                                     Creed II  ...                         Boxing\n",
              "38                     The Fast and the Furious  ...                   Motor racing\n",
              "39                                     Rocky II  ...                         Boxing\n",
              "40                             The Longest Yard  ...              American football\n",
              "41                                 The Waterboy  ...              American football\n",
              "42                         Ip Man 4: The Finale  ...                   Martial arts\n",
              "43                                        Creed  ...                         Boxing\n",
              "44             Dodgeball: A True Underdog Story  ...                      Dodgeball\n",
              "45  Talladega Nights: The Ballad of Ricky Bobby  ...                   Motor racing\n",
              "46                           The Cannonball Run  ...                   Motor racing\n",
              "47                                           21  ...                       Gambling\n",
              "48        The Fast and the Furious: Tokyo Drift  ...                       Drifting\n",
              "49                                     Ip Man 3  ...                   Martial arts\n",
              "\n",
              "[50 rows x 5 columns]"
            ]
          },
          "metadata": {
            "tags": []
          },
          "execution_count": 11
        }
      ]
    },
    {
      "cell_type": "code",
      "metadata": {
        "colab": {
          "base_uri": "https://localhost:8080/"
        },
        "id": "Viaf4y7zY2p9",
        "outputId": "da4c9376-dff4-4083-c9a8-0781c1c81a94"
      },
      "source": [
        "df['Worldwide gross']=df['Worldwide gross'].str.replace(r\"$\", \"\").str.replace(r\",\",\"\")\n",
        "df['Worldwide gross']= df['Worldwide gross'].astype('int64')\n",
        "df.drop('Ref', axis=1, inplace=True)\n",
        "df.info()"
      ],
      "execution_count": 12,
      "outputs": [
        {
          "output_type": "stream",
          "text": [
            "<class 'pandas.core.frame.DataFrame'>\n",
            "RangeIndex: 50 entries, 0 to 49\n",
            "Data columns (total 4 columns):\n",
            " #   Column           Non-Null Count  Dtype \n",
            "---  ------           --------------  ----- \n",
            " 0   Film             50 non-null     object\n",
            " 1   Year             50 non-null     int64 \n",
            " 2   Worldwide gross  50 non-null     int64 \n",
            " 3   Sport(s)         50 non-null     object\n",
            "dtypes: int64(2), object(2)\n",
            "memory usage: 1.7+ KB\n"
          ],
          "name": "stdout"
        }
      ]
    },
    {
      "cell_type": "code",
      "metadata": {
        "colab": {
          "base_uri": "https://localhost:8080/",
          "height": 1000
        },
        "id": "_yn2L1tenBNY",
        "outputId": "4b999c9d-f3b3-4f31-bdce-e565ef5f3cb4"
      },
      "source": [
        "df"
      ],
      "execution_count": 13,
      "outputs": [
        {
          "output_type": "execute_result",
          "data": {
            "text/html": [
              "<div>\n",
              "<style scoped>\n",
              "    .dataframe tbody tr th:only-of-type {\n",
              "        vertical-align: middle;\n",
              "    }\n",
              "\n",
              "    .dataframe tbody tr th {\n",
              "        vertical-align: top;\n",
              "    }\n",
              "\n",
              "    .dataframe thead th {\n",
              "        text-align: right;\n",
              "    }\n",
              "</style>\n",
              "<table border=\"1\" class=\"dataframe\">\n",
              "  <thead>\n",
              "    <tr style=\"text-align: right;\">\n",
              "      <th></th>\n",
              "      <th>Film</th>\n",
              "      <th>Year</th>\n",
              "      <th>Worldwide gross</th>\n",
              "      <th>Sport(s)</th>\n",
              "    </tr>\n",
              "  </thead>\n",
              "  <tbody>\n",
              "    <tr>\n",
              "      <th>0</th>\n",
              "      <td>Furious 7</td>\n",
              "      <td>2015</td>\n",
              "      <td>1516045911</td>\n",
              "      <td>Motor racing</td>\n",
              "    </tr>\n",
              "    <tr>\n",
              "      <th>1</th>\n",
              "      <td>The Fate of the Furious</td>\n",
              "      <td>2017</td>\n",
              "      <td>1238764765</td>\n",
              "      <td>Motor racing</td>\n",
              "    </tr>\n",
              "    <tr>\n",
              "      <th>2</th>\n",
              "      <td>The Hunger Games: Catching Fire</td>\n",
              "      <td>2013</td>\n",
              "      <td>865011746</td>\n",
              "      <td>Battle royale</td>\n",
              "    </tr>\n",
              "    <tr>\n",
              "      <th>3</th>\n",
              "      <td>Fast &amp; Furious 6</td>\n",
              "      <td>2013</td>\n",
              "      <td>788679850</td>\n",
              "      <td>Motor racing</td>\n",
              "    </tr>\n",
              "    <tr>\n",
              "      <th>4</th>\n",
              "      <td>The Hunger Games: Mockingjay – Part 1</td>\n",
              "      <td>2014</td>\n",
              "      <td>755356711</td>\n",
              "      <td>Battle royale</td>\n",
              "    </tr>\n",
              "    <tr>\n",
              "      <th>5</th>\n",
              "      <td>The Hunger Games</td>\n",
              "      <td>2012</td>\n",
              "      <td>694394724</td>\n",
              "      <td>Battle royale</td>\n",
              "    </tr>\n",
              "    <tr>\n",
              "      <th>6</th>\n",
              "      <td>Forrest Gump</td>\n",
              "      <td>1994</td>\n",
              "      <td>678222284</td>\n",
              "      <td>American football / ping pong</td>\n",
              "    </tr>\n",
              "    <tr>\n",
              "      <th>7</th>\n",
              "      <td>The Hunger Games: Mockingjay – Part 2</td>\n",
              "      <td>2015</td>\n",
              "      <td>653428261</td>\n",
              "      <td>Battle royale</td>\n",
              "    </tr>\n",
              "    <tr>\n",
              "      <th>8</th>\n",
              "      <td>Fast Five</td>\n",
              "      <td>2011</td>\n",
              "      <td>626137675</td>\n",
              "      <td>Motor racing</td>\n",
              "    </tr>\n",
              "    <tr>\n",
              "      <th>9</th>\n",
              "      <td>Casino Royale</td>\n",
              "      <td>2006</td>\n",
              "      <td>616501619</td>\n",
              "      <td>Gambling</td>\n",
              "    </tr>\n",
              "    <tr>\n",
              "      <th>10</th>\n",
              "      <td>Ready Player One</td>\n",
              "      <td>2018</td>\n",
              "      <td>582890172</td>\n",
              "      <td>E-sport</td>\n",
              "    </tr>\n",
              "    <tr>\n",
              "      <th>11</th>\n",
              "      <td>Cars 2</td>\n",
              "      <td>2011</td>\n",
              "      <td>562110557</td>\n",
              "      <td>Motor racing</td>\n",
              "    </tr>\n",
              "    <tr>\n",
              "      <th>12</th>\n",
              "      <td>Cars</td>\n",
              "      <td>2006</td>\n",
              "      <td>462216280</td>\n",
              "      <td>Motor racing</td>\n",
              "    </tr>\n",
              "    <tr>\n",
              "      <th>13</th>\n",
              "      <td>Gladiator</td>\n",
              "      <td>2000</td>\n",
              "      <td>460583960</td>\n",
              "      <td>Gladiatorial combat</td>\n",
              "    </tr>\n",
              "    <tr>\n",
              "      <th>14</th>\n",
              "      <td>Alita: Battle Angel</td>\n",
              "      <td>2019</td>\n",
              "      <td>404852543</td>\n",
              "      <td>Battle royale / motor racing</td>\n",
              "    </tr>\n",
              "    <tr>\n",
              "      <th>15</th>\n",
              "      <td>Cars 3</td>\n",
              "      <td>2017</td>\n",
              "      <td>383930656</td>\n",
              "      <td>Motor racing</td>\n",
              "    </tr>\n",
              "    <tr>\n",
              "      <th>16</th>\n",
              "      <td>Slumdog Millionaire</td>\n",
              "      <td>2008</td>\n",
              "      <td>378021385</td>\n",
              "      <td>Game show</td>\n",
              "    </tr>\n",
              "    <tr>\n",
              "      <th>17</th>\n",
              "      <td>Fast &amp; Furious</td>\n",
              "      <td>2009</td>\n",
              "      <td>363164265</td>\n",
              "      <td>Motor racing</td>\n",
              "    </tr>\n",
              "    <tr>\n",
              "      <th>18</th>\n",
              "      <td>The Karate Kid</td>\n",
              "      <td>2010</td>\n",
              "      <td>359126022</td>\n",
              "      <td>Martial arts</td>\n",
              "    </tr>\n",
              "    <tr>\n",
              "      <th>19</th>\n",
              "      <td>Enter the Dragon</td>\n",
              "      <td>1973</td>\n",
              "      <td>350000000</td>\n",
              "      <td>Martial arts</td>\n",
              "    </tr>\n",
              "    <tr>\n",
              "      <th>20</th>\n",
              "      <td>XXX: Return of Xander Cage</td>\n",
              "      <td>2017</td>\n",
              "      <td>345963851</td>\n",
              "      <td>Extreme sports</td>\n",
              "    </tr>\n",
              "    <tr>\n",
              "      <th>21</th>\n",
              "      <td>Dangal</td>\n",
              "      <td>2016</td>\n",
              "      <td>340000000</td>\n",
              "      <td>Wrestling</td>\n",
              "    </tr>\n",
              "    <tr>\n",
              "      <th>22</th>\n",
              "      <td>The Blind Side</td>\n",
              "      <td>2009</td>\n",
              "      <td>309208309</td>\n",
              "      <td>American football</td>\n",
              "    </tr>\n",
              "    <tr>\n",
              "      <th>23</th>\n",
              "      <td>Rocky IV</td>\n",
              "      <td>1985</td>\n",
              "      <td>300473716</td>\n",
              "      <td>Boxing</td>\n",
              "    </tr>\n",
              "    <tr>\n",
              "      <th>24</th>\n",
              "      <td>Smokey and the Bandit</td>\n",
              "      <td>1977</td>\n",
              "      <td>300000000</td>\n",
              "      <td>Motor racing</td>\n",
              "    </tr>\n",
              "    <tr>\n",
              "      <th>25</th>\n",
              "      <td>Real Steel</td>\n",
              "      <td>2011</td>\n",
              "      <td>299268508</td>\n",
              "      <td>Boxing</td>\n",
              "    </tr>\n",
              "    <tr>\n",
              "      <th>26</th>\n",
              "      <td>Turbo</td>\n",
              "      <td>2013</td>\n",
              "      <td>282570682</td>\n",
              "      <td>Motor racing</td>\n",
              "    </tr>\n",
              "    <tr>\n",
              "      <th>27</th>\n",
              "      <td>xXx</td>\n",
              "      <td>2002</td>\n",
              "      <td>277448382</td>\n",
              "      <td>Extreme sports</td>\n",
              "    </tr>\n",
              "    <tr>\n",
              "      <th>28</th>\n",
              "      <td>Jerry Maguire</td>\n",
              "      <td>1996</td>\n",
              "      <td>273552592</td>\n",
              "      <td>American football</td>\n",
              "    </tr>\n",
              "    <tr>\n",
              "      <th>29</th>\n",
              "      <td>Rocky III</td>\n",
              "      <td>1982</td>\n",
              "      <td>270000000</td>\n",
              "      <td>Boxing</td>\n",
              "    </tr>\n",
              "    <tr>\n",
              "      <th>30</th>\n",
              "      <td>Planes</td>\n",
              "      <td>2013</td>\n",
              "      <td>239258712</td>\n",
              "      <td>Air racing</td>\n",
              "    </tr>\n",
              "    <tr>\n",
              "      <th>31</th>\n",
              "      <td>Saturday Night Fever</td>\n",
              "      <td>1977</td>\n",
              "      <td>237113184</td>\n",
              "      <td>Dance competition</td>\n",
              "    </tr>\n",
              "    <tr>\n",
              "      <th>32</th>\n",
              "      <td>2 Fast 2 Furious</td>\n",
              "      <td>2003</td>\n",
              "      <td>236350661</td>\n",
              "      <td>Motor racing</td>\n",
              "    </tr>\n",
              "    <tr>\n",
              "      <th>33</th>\n",
              "      <td>Space Jam</td>\n",
              "      <td>1996</td>\n",
              "      <td>230418342</td>\n",
              "      <td>Basketball</td>\n",
              "    </tr>\n",
              "    <tr>\n",
              "      <th>34</th>\n",
              "      <td>Ford v Ferrari</td>\n",
              "      <td>2019</td>\n",
              "      <td>225508210</td>\n",
              "      <td>Motor racing</td>\n",
              "    </tr>\n",
              "    <tr>\n",
              "      <th>35</th>\n",
              "      <td>Rocky</td>\n",
              "      <td>1976</td>\n",
              "      <td>225000000</td>\n",
              "      <td>Boxing</td>\n",
              "    </tr>\n",
              "    <tr>\n",
              "      <th>36</th>\n",
              "      <td>Million Dollar Baby</td>\n",
              "      <td>2004</td>\n",
              "      <td>216763646</td>\n",
              "      <td>Boxing</td>\n",
              "    </tr>\n",
              "    <tr>\n",
              "      <th>37</th>\n",
              "      <td>Creed II</td>\n",
              "      <td>2018</td>\n",
              "      <td>214115889</td>\n",
              "      <td>Boxing</td>\n",
              "    </tr>\n",
              "    <tr>\n",
              "      <th>38</th>\n",
              "      <td>The Fast and the Furious</td>\n",
              "      <td>2001</td>\n",
              "      <td>207283925</td>\n",
              "      <td>Motor racing</td>\n",
              "    </tr>\n",
              "    <tr>\n",
              "      <th>39</th>\n",
              "      <td>Rocky II</td>\n",
              "      <td>1979</td>\n",
              "      <td>200182160</td>\n",
              "      <td>Boxing</td>\n",
              "    </tr>\n",
              "    <tr>\n",
              "      <th>40</th>\n",
              "      <td>The Longest Yard</td>\n",
              "      <td>2005</td>\n",
              "      <td>190320568</td>\n",
              "      <td>American football</td>\n",
              "    </tr>\n",
              "    <tr>\n",
              "      <th>41</th>\n",
              "      <td>The Waterboy</td>\n",
              "      <td>1998</td>\n",
              "      <td>185991646</td>\n",
              "      <td>American football</td>\n",
              "    </tr>\n",
              "    <tr>\n",
              "      <th>42</th>\n",
              "      <td>Ip Man 4: The Finale</td>\n",
              "      <td>2019</td>\n",
              "      <td>176345966</td>\n",
              "      <td>Martial arts</td>\n",
              "    </tr>\n",
              "    <tr>\n",
              "      <th>43</th>\n",
              "      <td>Creed</td>\n",
              "      <td>2015</td>\n",
              "      <td>173567581</td>\n",
              "      <td>Boxing</td>\n",
              "    </tr>\n",
              "    <tr>\n",
              "      <th>44</th>\n",
              "      <td>Dodgeball: A True Underdog Story</td>\n",
              "      <td>2004</td>\n",
              "      <td>167722310</td>\n",
              "      <td>Dodgeball</td>\n",
              "    </tr>\n",
              "    <tr>\n",
              "      <th>45</th>\n",
              "      <td>Talladega Nights: The Ballad of Ricky Bobby</td>\n",
              "      <td>2006</td>\n",
              "      <td>162966177</td>\n",
              "      <td>Motor racing</td>\n",
              "    </tr>\n",
              "    <tr>\n",
              "      <th>46</th>\n",
              "      <td>The Cannonball Run</td>\n",
              "      <td>1981</td>\n",
              "      <td>160000000</td>\n",
              "      <td>Motor racing</td>\n",
              "    </tr>\n",
              "    <tr>\n",
              "      <th>47</th>\n",
              "      <td>21</td>\n",
              "      <td>2008</td>\n",
              "      <td>159808370</td>\n",
              "      <td>Gambling</td>\n",
              "    </tr>\n",
              "    <tr>\n",
              "      <th>48</th>\n",
              "      <td>The Fast and the Furious: Tokyo Drift</td>\n",
              "      <td>2006</td>\n",
              "      <td>158468292</td>\n",
              "      <td>Drifting</td>\n",
              "    </tr>\n",
              "    <tr>\n",
              "      <th>49</th>\n",
              "      <td>Ip Man 3</td>\n",
              "      <td>2015</td>\n",
              "      <td>157300954</td>\n",
              "      <td>Martial arts</td>\n",
              "    </tr>\n",
              "  </tbody>\n",
              "</table>\n",
              "</div>"
            ],
            "text/plain": [
              "                                           Film  ...                       Sport(s)\n",
              "0                                     Furious 7  ...                   Motor racing\n",
              "1                       The Fate of the Furious  ...                   Motor racing\n",
              "2               The Hunger Games: Catching Fire  ...                  Battle royale\n",
              "3                              Fast & Furious 6  ...                   Motor racing\n",
              "4         The Hunger Games: Mockingjay – Part 1  ...                  Battle royale\n",
              "5                              The Hunger Games  ...                  Battle royale\n",
              "6                                  Forrest Gump  ...  American football / ping pong\n",
              "7         The Hunger Games: Mockingjay – Part 2  ...                  Battle royale\n",
              "8                                     Fast Five  ...                   Motor racing\n",
              "9                                 Casino Royale  ...                       Gambling\n",
              "10                             Ready Player One  ...                        E-sport\n",
              "11                                       Cars 2  ...                   Motor racing\n",
              "12                                         Cars  ...                   Motor racing\n",
              "13                                    Gladiator  ...            Gladiatorial combat\n",
              "14                          Alita: Battle Angel  ...   Battle royale / motor racing\n",
              "15                                       Cars 3  ...                   Motor racing\n",
              "16                          Slumdog Millionaire  ...                      Game show\n",
              "17                               Fast & Furious  ...                   Motor racing\n",
              "18                               The Karate Kid  ...                   Martial arts\n",
              "19                             Enter the Dragon  ...                   Martial arts\n",
              "20                   XXX: Return of Xander Cage  ...                 Extreme sports\n",
              "21                                       Dangal  ...                      Wrestling\n",
              "22                               The Blind Side  ...              American football\n",
              "23                                     Rocky IV  ...                         Boxing\n",
              "24                        Smokey and the Bandit  ...                   Motor racing\n",
              "25                                   Real Steel  ...                         Boxing\n",
              "26                                        Turbo  ...                   Motor racing\n",
              "27                                          xXx  ...                 Extreme sports\n",
              "28                                Jerry Maguire  ...              American football\n",
              "29                                    Rocky III  ...                         Boxing\n",
              "30                                       Planes  ...                     Air racing\n",
              "31                         Saturday Night Fever  ...              Dance competition\n",
              "32                             2 Fast 2 Furious  ...                   Motor racing\n",
              "33                                    Space Jam  ...                     Basketball\n",
              "34                               Ford v Ferrari  ...                   Motor racing\n",
              "35                                        Rocky  ...                         Boxing\n",
              "36                          Million Dollar Baby  ...                         Boxing\n",
              "37                                     Creed II  ...                         Boxing\n",
              "38                     The Fast and the Furious  ...                   Motor racing\n",
              "39                                     Rocky II  ...                         Boxing\n",
              "40                             The Longest Yard  ...              American football\n",
              "41                                 The Waterboy  ...              American football\n",
              "42                         Ip Man 4: The Finale  ...                   Martial arts\n",
              "43                                        Creed  ...                         Boxing\n",
              "44             Dodgeball: A True Underdog Story  ...                      Dodgeball\n",
              "45  Talladega Nights: The Ballad of Ricky Bobby  ...                   Motor racing\n",
              "46                           The Cannonball Run  ...                   Motor racing\n",
              "47                                           21  ...                       Gambling\n",
              "48        The Fast and the Furious: Tokyo Drift  ...                       Drifting\n",
              "49                                     Ip Man 3  ...                   Martial arts\n",
              "\n",
              "[50 rows x 4 columns]"
            ]
          },
          "metadata": {
            "tags": []
          },
          "execution_count": 13
        }
      ]
    },
    {
      "cell_type": "code",
      "metadata": {
        "colab": {
          "base_uri": "https://localhost:8080/"
        },
        "id": "QycLgbwiYocf",
        "outputId": "e408bb83-03d2-49df-bb0c-1a55301da217"
      },
      "source": [
        "data = df['Worldwide gross']\n",
        "print('mean=%.3f stdv=%.3f' %(mean(data), std(data)))"
      ],
      "execution_count": 14,
      "outputs": [
        {
          "output_type": "stream",
          "text": [
            "mean=393248240.380 stdv=275488096.614\n"
          ],
          "name": "stdout"
        }
      ]
    },
    {
      "cell_type": "markdown",
      "metadata": {
        "id": "WL6biAyrWr6U"
      },
      "source": [
        "## Визуальные проверки нормальности"
      ]
    },
    {
      "cell_type": "markdown",
      "metadata": {
        "id": "986euo6WWr6V"
      },
      "source": [
        "### График гистограммы"
      ]
    },
    {
      "cell_type": "code",
      "metadata": {
        "colab": {
          "base_uri": "https://localhost:8080/",
          "height": 281
        },
        "id": "CUXrCVHCWr6V",
        "outputId": "5760db09-2e84-4980-eda4-cc641adb86cc"
      },
      "source": [
        "from matplotlib import pyplot\n",
        "\n",
        "pyplot.hist(data)\n",
        "pyplot.show()"
      ],
      "execution_count": 15,
      "outputs": [
        {
          "output_type": "display_data",
          "data": {
            "image/png": "[encoded data removed]",
            "text/plain": [
              "<Figure size 432x288 with 1 Axes>"
            ]
          },
          "metadata": {
            "tags": [],
            "needs_background": "light"
          }
        }
      ]
    },
    {
      "cell_type": "markdown",
      "metadata": {
        "id": "tZFmnOs3Wr6X"
      },
      "source": [
        "При выполнении примера создается график гистограммы, показывающий\n",
        "количество наблюдений в каждом бине. Мы можем видеть гауссовидную форму данных,\n",
        "которая, хотя и не сильно знакома в форме колокола, является грубым приближением."
      ]
    },
    {
      "cell_type": "markdown",
      "metadata": {
        "id": "qcAWmffkWr6Y"
      },
      "source": [
        "### Квантиль-Квантиль Участок"
      ]
    },
    {
      "cell_type": "code",
      "metadata": {
        "colab": {
          "base_uri": "https://localhost:8080/",
          "height": 290
        },
        "id": "cp2gK2srWr6Z",
        "outputId": "6c54ce61-fdc3-4794-a449-b05922aa3eff"
      },
      "source": [
        "from statsmodels.graphics.gofplots import qqplot\n",
        "\n",
        "qqplot(data, line='s')\n",
        "pyplot.show()"
      ],
      "execution_count": null,
      "outputs": [
        {
          "output_type": "display_data",
          "data": {
            "image/png": "[encoded data removed]",
            "text/plain": [
              "<Figure size 432x288 with 1 Axes>"
            ]
          },
          "metadata": {
            "tags": [],
            "needs_background": "light"
          }
        }
      ]
    },
    {
      "cell_type": "markdown",
      "metadata": {
        "id": "GFFVg7cdWr6a"
      },
      "source": [
        "При выполнении примера создается график QQ, показывающий график рассеяния\n",
        "точек в диагональной линии, который точно соответствует ожидаемому диагональному\n",
        "шаблону для выборки из распределения Гаусса.\n",
        "Есть несколько небольших отклонений, особенно в нижней части графика, что и\n",
        "следовало ожидать, учитывая небольшую выборку данных."
      ]
    },
    {
      "cell_type": "markdown",
      "metadata": {
        "id": "w5UnN-FtWr6b"
      },
      "source": [
        "## Статистические тесты нормальности"
      ]
    },
    {
      "cell_type": "markdown",
      "metadata": {
        "id": "vmHT_k6dWr6c"
      },
      "source": [
        "### Тест Шапиро-Вилка"
      ]
    },
    {
      "cell_type": "code",
      "metadata": {
        "colab": {
          "base_uri": "https://localhost:8080/"
        },
        "id": "FadShwgDWr6c",
        "outputId": "a179ffc9-0ae1-4504-b192-7010e018d8e7"
      },
      "source": [
        "from scipy.stats import shapiro\n",
        "\n",
        "stat, p = shapiro(data)\n",
        "print('Statistics=%.3f, p=%.3f' % (stat, p))\n",
        "alpha = 0.05\n",
        "if p > alpha:\n",
        "  print('Sample looks Gaussian (fail to reject H0)')\n",
        "else:\n",
        "  print('Sample doesnt look Gaussian (regect H0)')"
      ],
      "execution_count": null,
      "outputs": [
        {
          "output_type": "stream",
          "text": [
            "Statistics=0.765, p=0.000\n",
            "Sample doesnt look Gaussian (regect H0)\n"
          ],
          "name": "stdout"
        }
      ]
    },
    {
      "cell_type": "markdown",
      "metadata": {
        "id": "TbRjSsVSWr6d"
      },
      "source": [
        "При выполнении примера сначала вычисляется тест для выборки данных, затем\n",
        "выводится статистика и вычисленное значение p.\n",
        "Значение p интересует и находит, что данные, скорее всего, взяты из гауссовского\n",
        "распределения."
      ]
    },
    {
      "cell_type": "markdown",
      "metadata": {
        "id": "RVWCLDEdWr6e"
      },
      "source": [
        "### Тест д'Агостино на K ^ 2"
      ]
    },
    {
      "cell_type": "code",
      "metadata": {
        "colab": {
          "base_uri": "https://localhost:8080/"
        },
        "id": "5sbhER3QWr6f",
        "outputId": "7f66be96-31f6-4169-96db-cd650a9eca4a"
      },
      "source": [
        "from scipy.stats import normaltest\n",
        "\n",
        "stat, p = normaltest(data)\n",
        "print('Statistics=%.3f, p=%.3f' % (stat, p))\n",
        "alpha = 0.05\n",
        "if p > alpha:\n",
        "  print('Sample looks Gaussian (fail to reject H0)')\n",
        "else:\n",
        "  print('Sample doesnt look Gaussian (regect H0)')"
      ],
      "execution_count": null,
      "outputs": [
        {
          "output_type": "stream",
          "text": [
            "Statistics=35.403, p=0.000\n",
            "Sample doesnt look Gaussian (regect H0)\n"
          ],
          "name": "stdout"
        }
      ]
    },
    {
      "cell_type": "markdown",
      "metadata": {
        "id": "9MM5Db2JWr6g"
      },
      "source": [
        "При выполнении примера вычисляется статистика и печатается статистика и\n",
        "значение p. Значение p интерпретируется по отношению к альфа 5% и обнаруживает, что\n",
        "тестовый набор данных не отличается значительно от нормального."
      ]
    },
    {
      "cell_type": "markdown",
      "metadata": {
        "id": "gMPk5k0iWr6h"
      },
      "source": [
        "### Тест Андерсона-Дарлинга"
      ]
    },
    {
      "cell_type": "code",
      "metadata": {
        "colab": {
          "base_uri": "https://localhost:8080/"
        },
        "id": "J9nMhaAuWr6h",
        "outputId": "bee9e273-164b-4b67-e8fd-37b849fe9cce"
      },
      "source": [
        "from scipy.stats import anderson\n",
        "\n",
        "result = anderson(data)\n",
        "print('Statistics=%.3f' % result.statistic)\n",
        "p = 0\n",
        "for i in range(len(result.critical_values)):\n",
        "  sl, cv = result.significance_level[1], result.critical_values[1]\n",
        "  if result.statistic < result.critical_values[1]:\n",
        "    print('%.3f: %.3f, data looks normal (fail to reject H0)' % (sl, cv))\n",
        "  else:\n",
        "    print('%.3f: %.3f, data doestn look normal (reject H0)' % (sl, cv))"
      ],
      "execution_count": null,
      "outputs": [
        {
          "output_type": "stream",
          "text": [
            "Statistics=3.436\n",
            "10.000: 0.613, data doestn look normal (reject H0)\n",
            "10.000: 0.613, data doestn look normal (reject H0)\n",
            "10.000: 0.613, data doestn look normal (reject H0)\n",
            "10.000: 0.613, data doestn look normal (reject H0)\n",
            "10.000: 0.613, data doestn look normal (reject H0)\n"
          ],
          "name": "stdout"
        }
      ]
    },
    {
      "cell_type": "markdown",
      "metadata": {
        "id": "hnORZtEtWr6i"
      },
      "source": [
        "При выполнении примера вычисляется статистика по набору тестовых данных и\n",
        "выводятся критические значения.\n",
        "Критические значения в статистическом тесте - это диапазон предварительно\n",
        "определенных границ значимости, при которых H0 может быть отклонен, если расчетная\n",
        "статистика меньше критического значения. Вместо простого значения p тест возвращает\n",
        "критическое значение для диапазона различных обычно используемых уровней\n",
        "значимости.\n",
        "Существует возможность интерпретировать результаты, не сумев отвергнуть\n",
        "нулевую гипотезу о том, что данные являются нормальными, если рассчитанная статистика\n",
        "теста меньше критического значения на выбранном уровне значимости.\n",
        "На каждом уровне значимости тест обнаружил, что данные соответствуют нормальному\n",
        "распределению"
      ]
    },
    {
      "cell_type": "markdown",
      "metadata": {
        "id": "XVjDx4iDeX6A"
      },
      "source": [
        "## Итог:"
      ]
    },
    {
      "cell_type": "markdown",
      "metadata": {
        "id": "kQLIcOvFbr3g"
      },
      "source": [
        "![Снимок.PNG](data:image/png;base64,iVBORw0KGgoAAAANSUhEUgAAArEAAADKCAYAAACyoBgGAAAAAXNSR0IArs4c6QAAAARnQU1BAACxjwv8YQUAAAAJcEhZcwAADsMAAA7DAcdvqGQAAEHlSURBVHhe7Z1Py3ZLVt77S/gBeuBAHPkFHAgOBJ0KaQhkoCiGBkF04iC2cdBIDxxKuo8GAk6OUTAKRgihyUCFJOCsQR0Ep/kMecPvPed6z7XXqdq79r7/PHc9df2guGuv+r/Wqqr17vPc9/nGhy/5/ve//2UuhBBCCCGE1yZBbAghhBBCmI5vELwqhRBCCCGEMAOf3sTCN77xjaSkpKSkpKSkpKSXSi2+FsSGOYntrjGz3mLzdYitA8QPwqr0fH8jzQaZl9juGjPrLTZfh9g6QPwgrErP9zfSkQ3yMz/7cx+++eM/8TH97d/9/Ye/+Mu/+vT8S7/ya1/WCs8mh9s1Ztbb0dx/+7d/+2Odmv7mb/7myxphFrDbHj/5kz/5yb7/8A//8OEXf/EXPz3/y7/8y8dnPimTPH4wH9htj+z58F7Bj1tspL1KFQLZf/ynf/7y6cPHYDYB7NsyaruwZWa9Hc2dCw0IXghygMssF9p8jPgpNsbWwKe3IYgF+YSC2TAX2fNhVXq+v5GOHmoJYl+PXEjXmFlvo3P3Cy3MyYitFcS27K3gxtHb2TAP2fNhVXq+v5GObhD/k4L6pwS/87u/90lGvsoIfpUn0VetQ97/TOH7n/3Rp/yv/8ZvfvykneTqQ/NaMaA+sh06kQ5J+oeH9CX9K68y6nkbPf/pn/35JzkJu3pdpX/377e2B7dnL8/44H6gOvdk1OelD3zMfZj5+bo1b/LoUXqlndZCe8lJIN9Vkq72uOVCa/1n5c8+++yTjDb1P03mbc7bgf6PwMbYcDR40dtZB7u7zdWX+4KgjGf1o/JaL9yPUb1mz4f3Bv7YYiPtVaroIhdc4rq8BeXUAy5v4OKmLs/kofbl7ajjbZVXGw8KCG5UzlwYZyVGbKeACV0pGHSZ8uhTdlI96VxljttG9XmWjb1cuI1a9tJc1Jby6mP3YERvri/mwHx8fZorUO46QF/SneSsRW2RkedTfVKX/BGj+7V1oelZZfo7SuBi4zIjeVvk4W0YsTV2IlEXe+5BeStAQUYZtievxDPgA/IPtWfMzz///OOzyunjaA7hPNnzYVV6vr+Rjm6QGnjWAIMLmYtdwSiQ18XMJ+Uk76e240JXPZLaU67LX3OpdSlfiRHbtXSjZ+leoE+SUJ0aXKlPydU3z2rvtpEMf5GMpCDWfUOo/VsFsYxfg2yfp/u5rxsoUz35urclaV217RG3XGi09fQnf/InzQur1TY8nxFbYyfsRaL+XgCioBTIyw8UeHqQyqfKSQQ+JMapMGYCn8eB/kfIng/vjZ7vb6S9ShUFjsKDWD4JZCinHmUKALigFQjpsqYOz7UdUIeymqfc29OmFWCtxIjtCJgAXcleyHhWHvQsuwjKpWNsqvrVTsCz8l6uNvQrv1Ceemqjeu5HPpd7MaI39KF5Ca2P+TFXrcX9UL5ZP7XWiutshNH92rqU6jPBS+viyoX2GozYGjt5YEmbVpDi9XoBpwex+IYHvcBzqy2yXp/hdrLnw6r0fH8jHdkgXMRc2rq4uXj1TJBBIq96XMqSkf7bf//hp7wSF3tt54nAQHn/m1j6Vr7OTYHEKhzZzm1AQqeS8el517frETm2AmyvOq532lNHz/43sSRs5v17XvYkeZ8+FvXvyeil4PP57u9/71Me/fgeYA1aP3n3UdXj09fqbVQ+wsjcuaioR/KLyeXqx9/I6T8z0obnGsSE5yIb9ZCdSNiWQFLPbnfJlKhb8TevCnbdN+QLeibRxn2q1W+4HXR7hNshez68F+SzlY20Vym8Ps+w3b0DyFdgZp/Pfl2H2DpA/CCsSs/3N9JskHl5pO30llb/yfw9MbPPZ7+uQ2wdIH4QVqXn+xtpNsi8xHbXmFlvsfk6xNYB4gdhVXq+v5Fmg8xLbHeNmfUWm69DbB0gfhBWpef7G2k2yLzEdteYWW+x+TrE1gHiB2FVer6/ka60QfgbT+DLSu/hC0s53K5xRm/622AS+YrKSM/wqaO5+zfW62998q1zfw6vzYiN/Jvmnv7wD//wa98059cL9G30MA/YcxTsm587C++Fnu9vpGc2yOz4Txy9B1ay3T0Z1Zt+ekzgPx7I4kf+xTd+UuvRgezI3Alk9TNJ4G3ye5DzMOqnBC2yN0EMP6tEqsEMQW31jfD6jPoBdpWNQ3gP9Hx/Ix3dIOH1iO2uMaI3freVoLSiwJWAluTot20fycjcE8S+D0b3t/4HBeBBrMuxO88EOXlTNxdn/ED7G/uHMDs9399IRzaI/ydVJb2R0jMXun7YnbdRkguvp8vegwSNQZm39/8pAp+eVx2vT17zICnQ8HL9iD35mTmynetI6V/963/z8RO9SA96m+j1kbkeSdKly6mndrKD21h1VF7t9haM+LzmWkGmstb8td5HMTL30SDW/1M0eS4+PXv6zne+8ylf/0SBoImkMiBIUnkCpuugvxFcxwpiK9TB9pRRR+ALspXGa9mPti6rvuJ+wKd8SzJS7dd9ifqhDfoZQTpEt7IbuM4977Yh6VyQT1AuO3tbnS1eD9xH1JfG4LOVJ/lcQ3DwjxYbaa9ShctZKK9gBQiICDgVHAGXPM+tegoEkCtQRaY8ECzRFlrj01Z1Pa/xgTz9eDmfys/MiO1aelMQiq7Ri3SkoAyZ6qJ/yqgrverTdUp9taecMp6VKt722YzojTm35odMZa11oQfW9ihG5s4FoosGvA1yXTDCZVwoulQ8z6XDhaZLreZ1gfFJXaHycB632x76xwPIThUPFNw/3Pb0Q2rZT21kZ/qTrSlX/5ozz8pTrj49735I3tcRvmLUD2QDtyn09A9qI/vyLDu4bTUH+QcBs+rRVv3SB1CuoNrnX9dS5xOC0/P9jXR0gyioAeW5yMkrKejkE7jMeW7VIwDw+jyTaON1FTC5jAS1LuPU4Mj7RU7i2evMyojtpCtQXnoX6NjtBsgIXJHTTnZAJn0rgT6BNugbPSPn01Gfb2WDEb2hC63ZYd6sjTWQHPnjIxmZuy4k4W3qBacLSjKedbF5nouGPJ8kLp96AdEHF5u/VdNlxxg+TjhmxNagYAJkm4r0ryS7Vn/o2a9ntzqe+iaRB8p9bLVx31Gb8HWkxz2qjkmyS0v/QjrHvvgC9va6sovqUYf2JD9jgPrC7ev9eR2NRT2fo/tfWBv3F2cj7VWq+OWsvIIVB5mCIQWQrXoKbOjLg1h/E+u0xqdP1VVeQZbG09gkyVV3dkZs19KbB7HSBbr3oE152VN65bMX3AnKqSebKqmM/t7SBqM+z1ylJyCvOUsf8nWgvtb5KEbmrgtJeBsPWrg8uJxc5heW53VxKc+l4xeV+tBlpPEp97mEcUZsTYDp+pVtnFqnZTfRs59sW6nj0VY+o/n7eMrTJ+VqS+DS6j+M+YF0LnzvtvQPlMvO2Jc8Mv9HEXhf+kcOSTJBH15PeZ+/8tSljs8nhErP9zfSkQ3Cxc2FzafngbwSgQkXvZ492PF6n/3xf/z4SR8KklRGHwQCeq5jel51vD55709BhT/Xslk5sl1Pb64fEgGZ15es1pM9XS6Z10Ov2FHPylOXpLzqPpsRnxeap+bsKJBV8oD3URzNncuBOiOJy4NPtfG2XEDK+9/EupwLSHk9g9epF2IYB/3tIfu1kmzhb7tEq52//WrZr9paAY+eQf3y6XnV8frk6dufQxv0s4f2retQeu3t6VaiLngbBaNeT7iMevqHCQm7Q88nNEZr7iEIfKPFRtqrdBUFpeHxXLUd9rl3wEUQNwtn9aagvRdw6x9uBOuP5t779RbyFuWxHNka3bcufwIDBbFhfh6x5/Gb6iO9vUzdBJnhLej5/kZ6zw3ib+j0di88jiu287eH9/rHhr/lnYGrPq919oJZ6fWRwewjLrSrMBdSLrjHcGRrf3vq8FYsQez74S33vL+Bj0+FZ9Pz/Y30LTdIuI3Y7hoz6y02X4fYOkD8IKxKz/c30myQeYntrjGz3mLzdYitA8QPwqr0fH8jzQaZl9juGjPr7Wju/qUMpfzn/jk5snVYgxE/0Bf4atIX80KYEXy4xUbaqxRen9juGjPrbWTuBLL66RzIF33mJPs7wKgf8I9V7Xu+pJU9H2an5/sbaQ7KeYntrjGz3kbmniD2fZD9HWDUD/yta4LY8B7o+f5GmoNyXo5s578aUH9BQN+kJ4F+w1U/F8U38PVrE2oD+t3UP/3Pf/6pPQn81ymUfvXffvvjp//G6pl5geYkmdoo6XeHST6H3q8EzOzzI3Ovf1Kgy0z/yZFy3tooz+Xn9Um//Mu//LVy/x1IUi7Jx4KOQxj1A/+zIQWxdc/yzJ4m6TxQO2Re9xd+4Rc+5f2M+O53v/spr3OE9O1vf/tTnsT43mf+tCGcBb9psZH2KoXXZ8R2BHNCeYJCBXgEqwSF+ukt/ewWeWSUE4CSpw11609zIfP+9Km82juj82Is5MAnctWjHDSWxqM/5VvM7PMjc+fi0JtYXWK6QFTmgSnoIuPTLzXK9ex4vfAYZvbTcD9G/cCDxNabWIJW6tQzQeeAzgXJgGf9lBvngfLqq+Z1ZtRzw/sJYZSe72+koxskvB4jtiOg8wQeVPKp5/q2FJkHiAooFcRSrn6PgljV8yDZE7TmpXErHsSCxqMvH7vFzD4/MncPYoHLQxcIZVwuPHs9XTgenFLOeN4XSO6XVLg/M/tpuB+jfqBAEmoQSx8k6rCf2cOCushI6kNjKvj0cwP4VJ/qF/xMEfRPHbUNYRT5YWUj7VUKr8+I7RQggvIEf3q7STBIvgaxqkswqDIPYkmqT38KYtWvB5IKTj3wHJ0X43iwKlpBrM9ZY7eY2edH5l4vEtp4YKrLxOtJVoNYyvVJoi8+vV54DDP7abgfI36g4FQoiCWpPXu8FcSqnLqtIJY8bcjrnFBfNe9nCtBW/aptCKPIDysbaa9SeH2ObEeQR2DHp+eBPEmBKEGmZCQFquQJJmmnZ9J/+OyPP+XpQ3nqEmDqWX8Tq6SglPzIvEB1SApy9Uyw6uMpmCUhbzGzzx/NnUuEOp640IBLhGfqKK/Esy48UutvYr/3ve99Ktc4tAmPAf2GcOQHetPZSp9//vmnvO9ZyUgKMMkTgKo//5tY/sGq/NHfxDKOUJnGVrAbwgj4TIuNtFcpvD73tF19E/uemdnns1/XIbYOcOQHBJ2t/ypC4Nj6R2Z9ExvCq9Lz/Y00B+W83NN2epuqN53vmZl9Pvt1HWLrAEd+0PvP9Lz1bAWxeivaaxfCq9Dz/Y00B+W8xHbXmFlvsfk6xNYB4gdhVXq+v5Fmg8xLbHeNmfUWm69DbB0gfhBWpef7G2k2yLzEdteYWW+x+TrE1gHiB2FVer6/kWaDzEtsd42Z9Rabr0NsHSB+EFal5/sbaTbIvMR215hZb7H5OsTWAeIHYVV6vr+RZoPMy5Ht6m+/kvx3VEn6nwqQ5xcKPO+/WKD8r//Gb378JPGbr6A2nvSbsrR7NWb2+ezXdYitA8QPwqr0fH8jzQaZlxHbEaQq6X8oIPz/bEWwSdDref/tWM8ToNaf4vI2CmJ7/7OBt2Zmn89+XYfYOkD8IKxKz/c30myQeRmxHcEkgWUNYgk6CTY9iNVbVJIHpEoexFaZglhgLMr0/GrM7PPZr+sQWweIH4RV6fn+RpoNMi8jttMbUwWxCkz5vMebWPqkb2+jYPlVA9mZfT77dR1i6wDxg7AqPd/fSLNB5uXIdgSWemOq9N3f/96nvMr9U3/fSl5yZMr738Sqntoo8UzwqudX+7OCmX0++3UdYusA8YOwKj3f30izQeblyHb1b2AJJvXmdWVm9vns13WIrQPED8Kq9Hx/I80GmZfY7hoz6y02X4fYOkD8IKxKz/c30myQeYntrjGz3mLzdYitA8QPwqr0fH8jzQaZl9juGjPrLTZfh9g6QPwgrErP9zfSbJB5ie2uMbPeYvN1iK0DxA/CqvR8fyPNBpmX2O4aM+stNl+H2DpA/CCsSs/3N9JskHmJ7a4xs95i83WIrQPED8Kq9Hx/I80GmZfY7hoz6y02X4fYOkD8IKxKz/c30myQeYntrjGz3mLzdYitA8QPwqr0fH8jzQaZl9juGjPrLTZfh9g6QPwgrErP9zfSbJB5ie2uMbPeYvN1iK0DxA/CqvR8fyPNBpmX2O4aM+stNl+H2DpA/CCsSs/3N9JskHmJ7a4xs95i83WIrQPED8Kq9Hx/I80GmZfY7hoz6y02X4fYOkD8IKxKz/c3UiolJSUlJSUlJSUlvVJq8bUgNsxJbHeNmfUWm69DbB0gfhBWpef7G2k2yLzEdteYWW+x+TrE1gHiB2FVer6/kWaDzEtsd42Z9TY6929+85sf07e+9a0Pv/Vbv/Wl9P78wR/8wYfPP//8y6fboB/6eySMId2MgP5Un1R1+cMf/vBTmebuY5CuElvfhtvhRz/60ZfSL9Yh+U//9E9/KR2DNlUH8pGq+974Z4kf3MZVO6idQ3v11dIB/kTZWb8KbXq+v5HOfKGvTmx3jWfp7Xd+9/c+/O3f/f2XT/dhZO5cYDqsOWi51ITnR7nSpsc9+zoLOtH45Ecuep8vbfzCJYBtXVbonLJbia2vg/41vtsdsKF0dgZ0jY49ePGAjrzsvjf+WeIH17nFDtStZ4QHtXXv83yPfR++ouf7G+mzLvRwf2K7azxLb28VxHL4ti5pvSVQ8gOdC1hyD9S8PskPdcn8UgfGVplfBHvjq8zHFt7OL2ufM31xgbjME2XM0/VSL6gjRttT7x6XWWx93dYVXwvtWjrbQ+PJj4SvgT792en5ygjxg8f4wR4ac6++l91rz4ctPd/fSJ91oYf7c2Q7Aqhv/vhPfEy/9Cu/9uH7n/3Rx6Syn/nZn/uU93rKK1FOOz1TB1xGnv68PXjfpH/8p3/+KKcuQZ6gTHNDrrkBfWpM79/bn2HE51u687H/4i//6mM9Pbusrtn1rHUAZeiDdloLn+qnxeh+1UHOZeD4JeL4AVzr9NoAh3e90Orh7pfrXl+6kBz68rmxJvXn47Quwkq9aPbm0qJeaDzrsnU9M4707/M9S2x93dZC9vF51aBnBK2F+bkOfF6M4c/QGv8s8YPH+EEPn1O1JyCjL9cB9SUn+fzDdXq+v5GObpDwehzZrgZNBGIKFAmsFFzxqeBSeGBFPzWopNz7A+pQF2oZqA34+MjpU+ORJ9EX8yLv44uWbIQRn2/pTvNjTnVszRMIToH69CNdep9akwexrX4rZ/crh6lfIr0LBbkOYJJz9kJjTO/r1guth18a6pf2PrYSfTNPv1z2+q6whjo39QutuYsz4zix9VectXWlN5eWXSvUqWNonT7nvb72dHFE/OArHuUHTu2v18blzMvnPTJOOKbn+xvp/gb5f0kvlbYcHW6tQIyEzAOmVuCkwEp5D0jJS+ZyBWXA2GrvbyWpr4BP/ZD3udKP2quO5siz93eFkUuhpzuh+VBHcyGvtYECV+laffq6KSOvPqS/HiNzrweoXxJeRp6DnuSXUm3vz7zR8AuqdaFVeoe7xhe9C83H68EcWpeWQz8+V5/XEa3+mavL1Le/CWPMM+M4sXWbli0q9O1zdZt4vjWPPar+vK3Pa2/8s8QP2ri+e9xqB18HY/kzeY1f9/mRfsIYPd/fSPc3SCuQSnq7tOXocGsFYgRTBE2gQIzPGjxRR0Fo7Yc8slZghxxURtJ4fPJMHfpWwKe+fT76VBmfCgaF588wcim0dCd9aB5ah2Sqr+BaQax0SZ52aqM1ua7VtsfI3P0tAskPeg5Xyf3y4HD3Nn7xUE9yHc7eTy2rfdULUHKNz/y8vpdBLaN+bVMv4R7UU5t6UaqsdYH6BeX4WtWOT8lIjtbvNukRW9/P1q4X74/5Oypr2dt107J1nVdvfGDc0XXEDx7jB4CdW3LQmnp68fnCXlm4Rs/3N9L9DfJF8PRnP/VTH/7Tj/3Yh//xq7/64f/+r//5MU/60Q++/6nOmUQ79dEqJ/2f//IXH8v5bJXX9F9//uc/zq1Vpjlfne/rpC1Hh9teIAYKAqmnN4Gq74EVkFcdyRWkCvojUUd9E6SpHTLqK5gFxuMZKPdg0OfLp4JG7+8KI5dCS3daG4lykIxP1Xd9qkxynzP1axDLONJNi5G5h9eFS3P0gout3ycKfEeJH4RV6fn+Rrq/Qb4InggkawD4v7/znc3zlUTg2ZIrMeZoEHuUWmuYL215tcONAI2g7NW5orej4LKFAu97kgttbhK8BP4Rc+ZNXfwgrErP9zfS/Q3yRfCkAJCkt6cexOpNrb851dtPAlXqkudNrtqQWkEsMvWlIFYy9U0/Xq769U2s6qkuCbm/TSZ5m17S2klaD2MrT7n0oHl6m7pW15nrRf2pjfr6Im15tcMtQeyWBLHhFmLrAPGDsCo9399I9zfIF8ETQR/BFYmAS8EbZXpWXYIzDyY9SNsGZF8PYumzBpq00fhe1wM/Pfu49ONt6Et9M0fJaVPnUVOtQ3vvW8Gq1qc5exvqaM7kVZd6mhfJ11XXXMnhdo2Z9Rabr0NsHSB+EFal5/sb6f4G+SqAIrgiKCPoIq/Ay4MuEnIPyvYCxFrW6kvBngJcgkXm0Apqkfuzl9OP5kUfNXndmuqa6KsGsV4umeau5Ov1sb0t85b867rbksPtGjPrLTZfh9g6QPwgrErP9zfS/Q3yVQBFcKXAkOBKAVoNFgnuPJg8E8QqUNUzbzw9iFXfLldiHj4u/XigyVjqe29OrUS/3oaxvG/69XmTaON1SFVXR3L63K5zSw63a8yst0fOXd+s1TeOj/BvZtdv9+obwfVb3v5N5bBPbB1g1A/Qc+sb+1fsoG/a119vuOIHV+iNf4R+UcDb6RcI/BcThOrfY86CPu/Z31neevx70vP9jXR/g3wVUPl/QveAkU9/q6iAjADM5ST1RUA4UkZfKqM/BZIe9KmOJ83Ny5SnjMBQciX110u+HuYhXdS17M2tNS+SAuA6L633q7TlkZfce2ZmvT1q7lxAOuRbF2ELvyi8DReQgiPyuuzoX/XIv5eD9lHE1gFG/AD9tvR8xQ7YUPXIY1dx1g+usDf+Hsytjqv2JNbvMH/VZ7za9hZG9Ty6trOMjD8DPd/fSPc3iAdQSUoEsAo8n5u2POqSe+/MrLejuXMwkzjEeMNA4rDkANezJx12fphyGR0d6PSnSwv8kvC+kOmZ+n6RvJeD9lHE1gHOnFdVz1fs4DYFtbniB8Cz+98RvfH3OPJjn2uLo/IjGF/7jLzPmeBaZRrD6yv5/F0+wuj4PgZrlrzq2NuM2u0R9Hx/I93fIK1Aas3kb5z9i2HPTVvOHG7hK2bW28jcOYD8IuD5CD+oOARJe9SLirwOSO+LenqmTz9ECcBCn9g6wJnzyu0BV+yAfRVsgdpc8YMr9MbfgzaMqcDL1wy1T4F+bg3U6NfnSN7701yqXpC7Ph212asj9sbn03XB+UB9ZD4XxtA54D5DXcnfgp7vb6T7G6QVSCW9Xdpy5nALXzGz3kbm7ocTcED99V//9acD3pMfdqJefC043PxwJY8MvC+vV/ut8wxbYusAZ86rqucrdnD7gtpc8YMr9Mbfgzperwa+tc8K5Uf7oEdrD7nOWnsQaNPSE3Jvc6TLvfF9PKCuko9B8roup+5b0fP9jXTmC311YrtrzKy3kbnzr20/1EbezvlBWQ++Hr02LvcDlgPdD8TRcVYltg5w5ryqer5iB2zodnQbn/WDK+yN34N6Ph9fM9AHdRzfK9QfGacF/XrQTD+ai8+pzpE1akzy6qNXp8fo+EAZ9Uf6FbWPZ9Lz/Y105gt9dWK7a8yst5G5c+hwQOtf0vXwbsEhrvr1cOPAQ946ENXGLw3Gk7y+EeFZZSPzWpnYOsCIH7iuSW6/PTuorMrdp5wrfqCy6lN79MYHlVV8bvJr93UlIV8n1Tmrr1G/9XFYJ5/IfAwl11trna05088evfHdLioTqlfLqtzn+2x6vr+Rznyhr05sd42Z9TYydz+owrzE1gFyzj8fgtq3DN7CF/R8fyPNBpmX2O4aM+vtaO7+1uXoX+/htYmtA+Scfy68veQNaXh7er6/kWaDzEtsd42Z9Rabr0NsHSB+EFal5/sbaTbIvMR215hZb7H5OsTWAeIHYVV6vr+RZoPMS2x3jZn1FpuvQ2wdIH4QVqXn+xtpNsi8xHbXmFlvo3PX30ryd5OP+vKPxrjnFyD0bdp8qSL7O3zBK/nBvfb8rPv8lvXT5h5/u47u6q8pPAP9kgLrIJH3vx3W3+jX++aW+6fn+xtpDsp5ie2uMbPeRubOocFBBxw2jzzwdKDdEw76e/f5CPgZnkd+oSr7O8Cj/ODq3r3Xnr9XP8/m6rxf7ZdEOLv0U2QjcKf4GvyeoR/ppJ6Lt5znPd/fSHNQzktsd42Z9TYyd4JWHS4V/11C6pDI61/RHDZ61m8lSkaqhx5l9YDy+qMBNAei2tQ+JSf5ujRntRFaE4k6R5cHdUjSTf1msvoiaXyfr9K9yf4OcOQH2qfuk75PfM8ruFAbT95mj7o/gX7VT90/rfFB/WjeR/uUfnyNfrb0xvczTPNQXZ0flNV2PCtVNO8zMGZtozE1vtbj55ePr3pKVZeSu15A6yShP81FMiXvrwXzchuRl8/4vYCs3hNHtu3R8/2NNAflvMR215hZb6Nz18HkBzPooPIDCZkOPtqAyvj0Q5G8Di7gMCQJyrw+ZfVAq9Q6zEF91vE0P+r7uF7PD0zqePse6Em6oW/le+OD13sE2d8BRvwAn9cewieVR+4+ip/Ln9kbvodGabXzc4bxdAaMjF/32B7sP9Wlb+V74wNj0E7z4JN2aqM5oTP153WlS9Fa/xHUV58OY2uuKve1MB9fi/D+ah3KNGc+fa70vbe2PRgHPXqSvvzMRebPUJ9H6fn+RpqDcl5iu2vMrLezc+eg0gFXDyEdLNTRQae6KquHj9cF8v5MuY9Bah3Czt4YtYxDl3LkdRy1qXPQQbuHj0M/9AG98Wv+EWR/BxjxA/dT/F3BSfVf36+eP0Ntxx6o/dRzRHhbPn3fjuD9sUbWujc++JjCdaS63p+fH6onWv0dQf3WWdE6G31spYr3V+dL6unfoV1d2x7oxvsjj0x54boVe/PYo+f7G2kOynmJ7a4xs95G5l4PRh0o9aDRM4eZDuV6+PHpBxLlOrigHuj1oBuB9nUM9Vn70jP1W5dCi5H5eB3GVt+98cHnQN7XcA+yvwOM+IH7pQcR1X+Ra//63uWz1u3h7URvn4yM7/v9CO/P++qND635uo505qk/b9sK9Fr9HeFnrKOxnZasQl86e+qcHeauehVfG/mjces45KV/15HPTfTmd0TP9zfSHJTzEttdY2a9jcy9/qtcBwqftYwDR3kOJD45kDh0ONT4JHl98Ha1jPYuHzmUfQzlmU+dsx+W/KcxL9P4Va6DtofGo2/pgAR743vdkTWeJfs7wJEfaC/KB+X/+K77KAlfdyT3/4Td48ye15nTG19y2jNvL+uherTRvtS8e+OrjZLGcB2RR04f5FvrpN7e+kfw9Wn+ntBJr6wiHYi6fj+PtFYln7OXHaG6tJcukMHeWSjdXaHn+xtpDsp5ie2uMbPenj33o4slPI7s7wDxg/dBDTxv4Z59PZpb7pCe72+k2SDzEttdY2a9PXPu/q978uG5ZH8HiB8E0NvP1tvO90rP9zfSbJB5ie2uMbPeYvN1iK0DxA/CqvR8fyPNBpmX2O4aM+stNl+H2DpA/CCsSs/3N9JskHmJ7a4xs95i83WIrQPED8Kq9Hx/I80GmZfY7hoz621k7vwh/b3+boq+9A3UUeo3Vd/iy2HMYfa/Gxv102foWmNc/ZZxC/+Geuhzxg9aPu9/SzmK/h6+7n3f2/WLRYyN/B4+2Bv/CH2D3tvpPGTuFdW/576hz7c488Rbj39Per6/kc58oa9ObHeNmfV2Zu73CuLO9uMXCBeoP4dxRmzNZaXLGV3fy+Yt6P/eAectP7/zTAiq3urb4Gf8oAYvyOQTrfIWrFP1yPuXOn0vu69RR3a8VVd74+/B3Oq4ak+qQSzzV33Gq21vYVTPo2s7y8j4M9Dz/Y105gt9dWK7a8ystzNzbwU0HPS8eSD5oc1hKnk9AOmHC0Dl9TJw6HMvKPHx1Q/9a66ah8/N2/jcfM71QpKssje+yvh8BUZszbx79qhrJZGnDZ/YSc/SpWSkesFSVm3r9elnBNmHVPuUnOTr0pzVRmhNJOocXd6Uoxfvz5GMpPF9vkrP5Myer+tHV67HI/1Atbva0I/rnnrq29sgq8/obGRs6I2/B/PyM6Pic21xVH4E48s3yPucW2eO11fy+bt8hNHxfQzWLHnVsbcZtdsj6Pn+Rjrzhb46sd01ZtbbmbnXoILDqAaHHKrI/KDicPOLhH5qnR4coKQeGp9xvT+fK+1Vz/O08b7rnCt1/dAbH12ojL6Uf0tGba3LhjU4rbUik15oAyrj03VGnrai2payareWHZxahzmozzqe5kd9H9fruQ2p4+170F798Xk0PrylT5zZ864PYG0+b7dXD9bqelAbZG4714mPS706jzP0xt+DNoyJzUjVVrVPgX6of8t86dfnSN7701yqXpC7Ph212asj9sbn03Wxd+b7nlAb6kr+FvR8fyOd+UJfndjuGjPr7czc6+HvhxZwOJFaB7y35eCrAVIPDj8deoynSwUZY+i5Xhw+HnX94PU26hu8/7pWqLK98T1fx38rzvopc9aae2t1+6iuylwH4HWBvD9T7mOQWnZw9saoZfgl5cjrOGpT51D9uIWPMzJ+zT+bM35Q18DafN61vEU9D9QGGWXC63m/td5ZeuPvQR2vV/2w9lmh/Kp9q47Bdeb+6XOkTUtPyL3NkS73xvfxgLpKPgbJ67qcum9Fz/c30pkv9NWJ7a4xs97OzL0e5PVA08HOAegHVb2E6Ic6o4Fsb1wfnzH82dswTj2URV2DYP61zd766/ieb/X1FozYuq5Rduut1W2ttirjs9qdtoJ21U98nBFoX8dQn7UvPVN/1B4j8/E6ro/e+OBzIO9reDRn9nxdAzZym43oh3VqrbT3tXq+6kcw3qi9WuyN36P6oq8Z6IM6jp9n1B8ZpwX9+j6kH83F51TnyBo1Jvm6H8Hr9BgdHyij/ki/ovbxTHq+v5HOfKGvTmx3jZn1NjJ3/1c0SQcch5fL/XCijpcJ6iioVBn97MGF4H3pQvE+ahnjSKa8Dn3JSb2+/BB3uZf1xtcYOuBV9tZcsTVrhN5aldc6deGhIz5d39K1t6tltHe526GHj6E886lz9ksWH/QyjV/lR76p+TIueLu98d0vRtZ4T0b8gDn53LU+8LKqH5VVuevVcXvLBrCnH5X5nI7ojQ8qq/jcZLuW7wq3d52z+qp66eHjyKeR9fahaK2zNWf62aM3vttFZUL1almV+3yfTc/3N9KZL/TVie2uMbPeYvN1eLat/YILr0P2/PMhqH3L4C18Qc/3N9JskHmJ7a4xs95i83V4pq1bb7HCa5A9/1x4e8kb0vD29Hx/I80GmZfY7hoz6y02X4fYOkD8IKxKz/c30myQeYntrjGz3mLzdYitA8QPwqr0fH8jzQaZl9juGjPrLTZfh9g6QPwgrErP9zfSbJB5ie2uMbPezs79Xl/W4e8kn/1FB/9mL+ib1PqbTf/mrX97F/l7+LvOEVvrm8T129VXoK+zfwvoNmAOb/HlMOZwj/W/Kq90XsnWt54F8pvZvjx1y/ppc/QrAyO8lb/rlxRYB4m8nxc6n+sZcMuZ0PP9jXTmC311YrtrzKy3M3PnwHy1S+Ls4Usw6ge/t68HqPMWwdS9OWPre11qZ/txG+BrZ4PgcMyjzisFI2e52q5yr36ezdV5v9qZxLl65h/7BM++BvLIwF9y1DP7lnuo5/sb6cwX+urEdteYWW9n5l4PTQ4X/Uta/6rWYUNdnkl+sBHUSF4DFC/zQ0pvWdRG89CYSiMBUz0Q1YYxfEzq6UCFWw7OV+GMrVu6dH27DuUHpOoj9OP2c51WjnTs46sf+tdcNQ+fm7fxufmcaa828tuj9Wt86iOnvspenSM/kG6kC18vtPzA9am0Z2sHm1e706/6YTynNT6oH83b7d2CfnyNbvPe+Fon42geqisfoKy241mponmfgTFrG42p8bUe7NAaX/WUqi4lr3vBfR39aS6SKXl/LZiX24i8fAY9C2T+DEe27dHz/Y105gt9dWK7a8ystzNzbx0cOrx0YOlA80NHB13F+6M+7QQHpQ40vwzox5/rAXuELiElP+h9zuR9zq2DdDbO2LrqtdoQG6ATZNWOrif6qXV6YH/3gYrGZ1zvz+dKe9XzPG287zrnSsuv9sZX33z6OK/IiB+wPumFdSuPXHoA+QFcXXurXd3zssfI+NSV7AjOANWlb+V74wNj1DOPdmqjOaEz9ed1q7+11n8E9dWnw9iaq8p9LczH1yK8v1qHMs2ZT58rfe+tbQ/G8bO42kIg82eoz6P0fH8jnflCX53Y7hoz6+3M3FsHBweaH2rAQVYPp9bh5v2Rr23U796B1TqQ92AefvirPQelz5G8DlSo5TNyxtZVr9UGsnvVE3hbLjm/RPfALm5z9wPGcN/w+dQL1+3rbdQ3eP8tH6qyvfE972t4VUb8wNfkvu9yYK1ar+fPUNu1dCh7HI2PbWrbPbw/+fLe+OBjCteR6np/7juqJ1r9HUF993PR8mUfW6ni/dX5knr6d2hX17YHuvH+yCNTXrhuxd489uj5/kY684W+OrHdNWbW25m5tw6O1gHckrXw/jikWocytA5m4WXke32IOo6394OyrpU2I2t6Zc7Yuuq86gNd6YJ2vdQLRzYZDWR74/r49fLzNv5mqFLXIJh/bbO3/jq+52fwkxE/qOuVTasO5QfAurV2PmvdHt5O1LZ6Hhkf29X+enh/3ldvfGjN13Uk31F/3hb/UD3R6u+Inp9Vv4WWrEJf2gN1zg5zr3tF+NrIH41bxyEv/buOfG6iN78jer6/kc58oa9ObHeNmfV2Zu4cJH5wckj5v9b9YKll9eCGehARgHgbjcW4LicJ6kjWGsPxfkBzVDs+Ve7rhKuH5isxYmutX0kXEZeLy/dsLaijoFJluqR6uD1Jez6gMsaRTHldkJKTen1pjeByL+uNL5+RPlR2tM635MgPZAOtXfsSHez5AUg+8o8WjeNJNvK9SGJs6I0vOe3lj3VuFdWjjeyreffGVxsljeE6Io+cPsi31km9vfWP4OvT/D3JB1tlFelA1PXLF0BrVfI5e9kRqkt76QIZuJ19bJDurtDz/Y105gt9dWK7a8yst7NzP7oYznDPvh4JByqH+uxkfweIH7wPauB5C/fs69Hccm/0fH8jzQaZl9juGjPr7dlz9zcZV/81Ha6R/R0gfhBAbz9bbzvfKz3f30izQeYltrvGzHqLzdchtg4QPwir0vP9jTQbZF5iu2vMrLfYfB1i6wDxg7AqPd/fSLNB5iW2u8bMeovN1yG2DhA/CKvS8/2NNBtkXmK7a8yst9h8HWLrAKN+0PtbSf9bylH0bXd9+1z4t9DrF4v09/P3+AJob/wj9A16b8d8kOnb/47q3/NLq/T5ll+Cfevx70nP9zfSHJTzEttdY2a9xebrcNbW97q4CCCe/SU+AiKCCRIoINKvTPSCp/fySxR7jPgBtkcX1QeQKbBtlbdAv6pH3vXrwaEHzO4z5GuAe4a98fdgbnVctSexfof5qz7j1ba3MKrn0bWdZWT8Gej5/kaaS3FeYrtrzKy32HwdztiaC/HVfj3Cg5wRavDj7XvBE7yXC7vHGT+ousAnPHgb0VUNrNSGftzHPDD0NsjqM//4GLVTb/w9mNdeEOpzbXFUfgTj6x9Z5H3O+K7KNIbXV/L5u3yE0fF9DNYsedWxtxm12yPo+f5GmktxXmK7a8yst9h8Hc7Yul40uqC40HQh6QKjri4oDxgIDiX3oBG8jD6FAhS10Tz8EiSNBLTMpRXEMoaPWQMO2nj5e+MWP0AvLZ3uUfXrdnB/cXv5uNSr8zhDb/w9aON+7WuG2qdAP9S/Zb7063Mk7/1pLlUvyF2fjtrs1RF74/PpumBfUh+Zz4UxtIfcZ6j7lnur5/sbaS7FeYntrjGz3mLzdThja7+QhC5ovxCR+aVYLznRu+CAS5LLDTzYpR9/9ot1BMZREEJSe8byOZP3Odfy98YtfuABCbT8pIIuZV9Qm5YdVM/7vdUevfH3oI7Xq75X+6xQ3toHI1Qdg+vMfdrnSJuWnpB7myNd7o3v4wF1lXwMktd1OXXfip7vb6S5FOcltrvGzHqLzdfhjK3rZQW6rBwuRL+gSK1L0vsjX9uo39a44koQ65fxXhDrAUktf2/c4gfoxn1gz14CG8gOLd0L78vljFeDqjPsjd+Dej6flt9Tx/F/cFF/ZJwW9Ou+Tj+ai8+pzpE1akzy6qNXp8fo+EAZ9Uf6FbWPZ9Lz/Y00l+K8xHbXmFlvsfk6nLF166LhYq6XeUvWwvvjslNQUdkLVL2MfK8PUcepF7Ooa6XNyJpmZcQP0JX/I8N15GU1kFNZlfufgzjYQXLXOe0ld7uBys4EQ73xQWUVn5v8hTlKpiTwG8nqnNVX1UsPH4d18onMx1ByvbXW2Zrz0d7pje92UZlQvVpW5T7fZ9Pz/Y00l+K8xHbXmFlvsfk6nLF1DeRGgxqSB4jC64NftiSN1bqkhV+srTEc7wc0R7VTUEGql2qd63sje/754H9vGbyFL+j5/kaaDTIvsd01ZtZbbL4OZ219z2BulsCQN01HAfLsZM8/F3yKf7SFt6fn+xtpNsi8xHbXmFlvsfk6PNvW/oY2b6Feh+z5sCo9399Is0HmJba7xsx6i83XIbYOED8Iq9Lz/Y00G2ReYrtrzKy32HwdYusA8YOwKj3f30izQeYltrvGzHqLzdchtg4QPwir0vP9jTQbZF5iu2vMrLfYfB1i6wCv5Af3+ptp/fTTbH97fcv6aXP0U1kjoDv+fv3Z6BdKWAeJvH8BTn9TX78UesuXRHu+v5HmoJyX2O4aM+stNl+H2DrAo/xAwchZrrar3KufZ3N13q/2ix8E1Gd+2YPg2ddAHhnQj3RC3oN18lft3PP9jTQH5bzEdteYWW+x+TrE1gGO/EC/oUtQwSdJwQX4b/wquFAbT95mj1YQR7/qp/48VWt8UD+a91GQRz++Rn8b2Rtf62QczUN19eaQstqOZ6WK5n0GxqxtNKbG13qwQ2t81VOqupS8vqXVOknoT3ORTMn7a3EUxApk/gxHtu3R8/2NNAflvMR215hZb7H5OsTWAUb8gCBBgQPBiPIKWgRBkwIPAhnSWVrtPABkPAVSI+NTV7IjCLZU14Oo3vjAGB6k8Uk7tdGc0Jn687o1IGut/wjqq0+HsTVXlftamI+vRXh/tQ5lmjOfPlf63lvbHozjQW+1hUDmz1CfR+n5/kaag3JeYrtrzKy32HwdYusAI35QgwgFJzV4IKBRUOP5M9R2BEO1HwVVR+MTCNW2e3h/rJG17o0PPqZwHamu9+eBWg30Wv0dQX0Fj04rQPWxlSreX50vqad/h3Z1bXvU4JQ8MuWF61bszWOPnu9vpDko5yW2u8bMeovN1yG2DjDiB70gogYPCtTAgzE+RwMNbydqWz2PjE/AVfvr4f15X73xoTVf11ENYr1tK9Br9XcE/bTatILYlqxCXwpi65wd5q56FV8b+aNx6zjkpX/Xkc9N9OZ3RM/3N9IclPMS211jZr3F5usQWwc48gOCBn/7xn8y5plAgiDD39DVYEJy/0/YPTSOJwVmBDEuVxDTG19y2jNvL+uhegqSyGvevfHVRkljuI7II6cP8q11Um9v/SP4+jR/TwoIW2UV6UDU9XtAqrUq+Zy97AjVpb10gQzczj42SHdX6Pn+RpqDcl5iu2vMrLfYfB1i6wDxg/dBDTxv4Z59PZqjf5zs0fP9jTQbZF5iu2vMrLfYfB1i6wDxgwB6+9l62/le6fn+RpoNMi+x3TVm1ltsvg6xdYD4QViVnu9vpNkg8xLbXWNmvcXm6xBbB4gfhFXp+f5Gmg0yL7HdNWbWW2y+DrF1gPhBWJWe72+k2SDzEttdY2a9xebrEFsHGPWD3t9K+t9SjqJvu+vb58K/hV6/WKRfArjlizyiN/4R+ga9t2M+yPTtf0f17zFnQZ/37O8sbz3+Pen5/kaag3JeYrtrzKy32HwdYusAI35A0EKQVoMXZApsW+UtCE5VjzwBpfDg0ANm6uhnlMjf8s35vfH3YG51XLUn1SCW+as+49W2tzCq59G1nWVk/Bno+f5GmoNyXmK7a8yst9h8HWLrAGf8oAYvBJYevI0ENzWwUhv6UaAKHhh6G2T1+czbzt74ezCvvSDU59riqPwIf9tN3uest70kjeH1lXz+Lh9hdHwfgzVLXnXsbUbt9gh6vr+R5qCcl9juGjPrLTZfh9g6wBk/qAEHAY0HLq0/N6jUgM7f5HqASV59+7jUuyXw6Y2/B20YU4FXDWhrn0LB3y3zpV+fI3nvT3OpekHu+nTUZq+O2BufT9cFwSn1kflcGANdgPsMdSV/C3q+v5HmoJyX2O4aM+stNl+H2DrAGT/wwARqEFvLW9SAT22QeUDl9bzfWu8svfH3oI7Xq4Fv7bNCuevpDFXH4DpTYF2DZdq09ITc2xzpcm98Hw+oq+RjkLyuy6n7VvR8fyPNQTkvsd01ZtZbbL4OsXWAM35QgxaCKA9CankLAiIFRTUg9bz35XLGq0HVGfbG70E9n08NvOiDOg5vJQX1R8ZpQb8eNNOP5uJzqnNkjRqTvPro1ekxOj5QRv2RfkXt45n0fH8jzUE5L7HdNWbWW2y+DrF1gBE/IIjxt2ceeHhZDeRUVuX+N5EOgY/kHijSXnIPqEBlZ4Kh3vigsorPTQEac5RMSRDISVbnrL6qXnr4OKyTT2Q+hpLrrbXO1pzpZ4/e+G4XlQnVq2VV7vN9Nj3f30hzUM5LbHeNmfUWm69DbB0gfvB8CGrfMngLX9Dz/Y00G2ReYrtrzKy32HwdYusA8YPnwttL/1OD8Hb0fH8jzQaZl9juGjPrLTZfh9g6QPwgrErP9zfSbJB5ie2uMbPeYvN1iK0DxA/CqvR8fyPNBpmX2O4aM+stNl+H2DpA/CCsSs/3N9JskHmJ7a4xs95i83WIrQO8kh/c6xvr+tb8bF+eumX9tDn6lYER0F39NYVnoF9SYB0k8v63w/qlC/8FBKjPZ+j5/kaag3JeYrtrzKy32HwdYusAj/IDBSNnudqucq9+ns3Ved8SzD2CM78VCwTPvgbyyIB+pBPyHqyTv2rnnu9vpDko5yW2u8bMeovN1yG2DnDkB/pNU4IKPkkKLsB/i1TBhdp48jZ7tII4+lU/9Zv9rfFB/WjeR0Ee/fga/W1kb3ytk3E0D9XVm0PKajuelSqa9xkYs7bRmBpf68EOrfFVT6nqUvL6llbrJKE/zUUyJe+vxVEQK5D5MxzZtkfP9zfSHJTzEttdY2a9xebrEFsHGPEDggQFDgQjyitoEQRNCjwIZEhnabXzAJDxFEiNjE9dyY4g2FJdD6J64wNjeJDGJ+3URnNCZ+rP69aArLX+I6ivPh3G1lxV7mthPr4W4f3VOpRpznz6XOl7b217MI4HvdUWApk/Q30epef7G2kOynmJ7a4xs95i83WIrQOM+EENIhSc1OCBgEZBjefPUNsRDNV+FFQdjU8gVNvu4f2xRta6Nz74mMJ1pLrenwdqNdBr9XcE9RU8Oq0A1cdWqnh/db6knv4d2tW17VGDU/LIlBeuW7E3jz16vr+R5qCcl9juGjPrLTZfh9g6wIgf9IKIGjwoUAMPxvgcDTS8naht9TwyPgFX7a+H9+d99caH1nxdRzWI9batQK/V3xH002rTCmJbsgp9KYitc3aYu+pVfG3kj8at45CX/l1HPjfRm98RPd/fSHNQzktsd42Z9Rabr0NsHeDIDwga/O0b/8mYZwIJggx/Q1eDCcn9P2H30DieFJgRxLhcQUxvfMlpz7y9rIfqKUgir3n3xlcbJY3hOiKPnD7It9ZJvb31j+Dr0/w9KSBslVWkA1HX7wGp1qrkc/ayI1SX9tIFMnA7+9gg3V2h5/sbaQ7KeYntrjGz3mLzdYitA8QP3gc18LyFe/b1aI7+cbJHz/c30myQeYntrjGz3mLzdYitA8QPAujtZ+tt53ul5/sbaTbIvMR215hZb7H5OsTWAeIHYVV6vr+RZoPMS2x3jZn1FpuvQ2wdIH4QVqXn+xtpNsi8xHbXmFlvsfk6xNYB4gdhVXq+v5Fmg8xLbHeNmfUWm69DbB1g1A96fyvpf0s5ir7trm+fC/8Wev1ikX4J4JYv8oje+EfoG/Tejvkg07f/HdW/x5wFfd6zv7O89fj3pOf7G2kOynmJ7a4xs95i83WIrQOM+AFBC0FaDV6QKbBtlbcgOFU98gSUwoNDD5ipo59RIn/LN+f3xt+DudVx1Z5Ug1jmr/qMV9vewqieR9d2lpHxZ6Dn+xtpDsp5ie2uMbPeYvN1iK0DnPGDGrwQWHrwNhLc1MBKbehHgSp4YOhtkNXnM287e+Pvwbz2glCfa4uj8iP8bTd5n7Pe9pI0htdX8vm7fITR8X0M1ix51bG3GbXbI+j5/kaag3JeYrtrzKy32HwdYusAZ/ygBhwENB64tP7coFIDOn+T6wEmefXt41LvlsCnN/4etGFMBV41oK19CgV/t8yXfn2O5L0/zaXqBbnr01GbvTpib3w+XRcEp9RH5nNhDHQB7jPUlfwt6Pn+RpqDcl5iu2vMrLfYfB1i6wBn/MADE6hBbC1vUQM+tUHmAZXX835rvbP0xt+DOl6vBr61zwrlrqczVB2D60yBdQ2WadPSE3Jvc6TLvfF9PKCuko9B8roup+5b0fP9jTQH5bzEdteYWW+x+TrE1gHO+EENWgiiPAip5S0IiBQU1YDU896XyxmvBlVn2Bu/B/V8PjXwog/qOLyVFNQfGacF/XrQTD+ai8+pzpE1akzy6qNXp8fo+EAZ9Uf6FbWPZ9Lz/Y00B+W8xHbXmFlvsfk6xNYBRvyAIMbfnnng4WU1kFNZlfvfRDoEPpJ7oEh7yT2gApWdCYZ644PKKj43BWjMUTIlQSAnWZ2z+qp66eHjsE4+kfkYSq631jpbc6afPXrju11UJlSvllW5z/fZ9Hx/I81BOS+x3TVm1ltsvg6xdYD4wfMhqH3L4C18Qc/3N9JskHmJ7a4xs95i83WIrQPED54Lby/9Tw3C29Hz/Y00G2ReYrtrzKy32HwdYusA8YOwKj3f30izQeYltrvGzHqLzdchtg4QPwir0vP9jTQbZF5iu2vMrLfYfB1i6wDxg7AqPd/fSLNB5iW2u8bMeovN1yG2DvBKfnCvb6zrW/OzfXnqlvXT5uhXBkZAd/XXFJ6BfkmBdZDI+98O65cu/BcQoD6foef7G2kOynmJ7a4xs95i83WIrQM8yg8UjJzlarvKvfp5NlfnfUsw9wjO/FYsEDz7GsgjA/qRTsh7sE7+qp17vr+R5qCcl9juGjPrLTZfh9g6wJEf6DdNCSr4JCm4AP8tUgUXauPJ2+zRCuLoV/3Ub/a3xgf1o3kfBXn042v0t5G98bVOxtE8VFdvDimr7XhWqmjeZ2DM2kZjanytBzu0xlc9papLyetbWq2ThP40F8mUvL8WR0GsQObPcGTbHj3f30hzUM5LbHeNmfUWm69DbB1gxA8IEhQ4EIwor6BFEDQp8CCQIZ2l1c4DQMZTIDUyPnUlO4JgS3U9iOqND4zhQRqftFMbzQmdqT+vWwOy1vqPoL76dBhbc1W5r4X5+FqE91frUKY58+lzpe+9te3BOB70VlsIZP4M9XmUnu9vpDko5yW2u8bMeovN1yG2DjDiBzWIUHBSgwcCGgU1nj9DbUcwVPtRUHU0PoFQbbuH98caWeve+OBjCteR6np/HqjVQK/V3xHUV/DotAJUH1up4v3V+ZJ6+ndoV9e2Rw1OySNTXrhuxd489uj5/kaag3JeYrtrzKy32HwdYusAI37QCyJq8KBADTwY43M00PB2orbV88j4BFy1vx7en/fVGx9a83Ud1SDW27YCvVZ/R9BPq00riG3JKvSlILbO2WHuqlfxtZE/GreOQ176dx353ERvfkf0fH8jzUE5L7HdNWbWW2y+DrF1gCM/IGjwt2/8J2OeCSQIMvwNXQ0mJPf/hN1D43hSYEYQ43IFMb3xJac98/ayHqqnIIm85t0bX22UNIbriDxy+iDfWif19tY/gq9P8/ekgLBVVpEORF2/B6Raq5LP2cuOUF3aSxfIwO3sY4N0d4We72+kOSjnJba7xsx6i83XIbYOED94H9TA8xbu2dejOfrHyR49399Is0HmJba7xsx6i83XIbYOED8IoLefrbed75We72+kVEpKSkpKSkpKSkp6pdQi/6wLIYQQQggvzQ9+8IOvpQSxIYQQQgjhpSForSSIDSGEEEIIL83Xg9gPH/4/+50HwyZTwzgAAAAASUVORK5CYII=)"
      ]
    }
  ]
}