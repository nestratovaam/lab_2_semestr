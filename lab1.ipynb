{
  "nbformat": 4,
  "nbformat_minor": 0,
  "metadata": {
    "colab": {
      "name": "lab1.ipynb",
      "provenance": [],
      "collapsed_sections": []
    },
    "kernelspec": {
      "name": "python3",
      "display_name": "Python 3"
    }
  },
  "cells": [
    {
      "cell_type": "markdown",
      "metadata": {
        "id": "yKo-UIi6VFwZ"
      },
      "source": [
        "# Лабораторная 1\r\n",
        "Вариант 21\r\n"
      ]
    },
    {
      "cell_type": "code",
      "metadata": {
        "id": "tu3NQoodcvRP",
        "colab": {
          "base_uri": "https://localhost:8080/"
        },
        "outputId": "18f2b141-26c0-44a2-ab8b-07d06ed433c7"
      },
      "source": [
        "import numpy as np\r\n",
        "import timeit\r\n",
        "\r\n",
        "\r\n",
        "def without_num(n, m, k):\r\n",
        "    matrix1 = []\r\n",
        "    count = 0\r\n",
        "    for i in range(m):\r\n",
        "        matrix1.append([])\r\n",
        "        for j in range(k):\r\n",
        "            matrix1[i].append(count)\r\n",
        "            count += 1\r\n",
        "\r\n",
        "\r\n",
        "def with_num(n, m, k):\r\n",
        "    matrix2 = np.arange(n).reshape(m, k)\r\n",
        "\r\n",
        "if __name__ == '__main__':\r\n",
        "    n = int(input('Number: '))\r\n",
        "    m, k = map(int, input('Size: ').split())\r\n",
        "    if m * k == n:\r\n",
        "        start_time = timeit.default_timer()\r\n",
        "        with_num(n, m, k)\r\n",
        "        time_1 = timeit.default_timer() - start_time\r\n",
        "        start_time = timeit.default_timer()\r\n",
        "        without_num(n, m, k)\r\n",
        "        time_2 = timeit.default_timer() - start_time\r\n",
        "\r\n",
        "        print('Time without numpy: ', time_1)\r\n",
        "        print('Time with nympy: ', time_2)"
      ],
      "execution_count": null,
      "outputs": [
        {
          "output_type": "stream",
          "text": [
            "Number: 6\n",
            "Size: 2 3\n",
            "Time without numpy:  4.088699998305856e-05\n",
            "Time with nympy:  7.803999977795684e-06\n"
          ],
          "name": "stdout"
        }
      ]
    },
    {
      "cell_type": "code",
      "metadata": {
        "id": "CTT0d0my3CZH"
      },
      "source": [
        ""
      ],
      "execution_count": null,
      "outputs": []
    }
  ]
}
