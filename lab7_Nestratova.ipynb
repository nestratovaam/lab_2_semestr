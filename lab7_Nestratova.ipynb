{
  "nbformat": 4,
  "nbformat_minor": 0,
  "metadata": {
    "colab": {
      "name": "lab7_Nestratova.ipynb",
      "provenance": [],
      "authorship_tag": "ABX9TyOT/nBUtFBvMgGpCiH5J0o9",
      "include_colab_link": true
    },
    "kernelspec": {
      "name": "python3",
      "display_name": "Python 3"
    },
    "language_info": {
      "name": "python"
    }
  },
  "cells": [
    {
      "cell_type": "markdown",
      "metadata": {
        "id": "view-in-github",
        "colab_type": "text"
      },
      "source": [
        "<a href=\"https://colab.research.google.com/github/nestratovaam/lab_2_semestr/blob/main/lab7_Nestratova.ipynb\" target=\"_parent\"><img src=\"https://colab.research.google.com/assets/colab-badge.svg\" alt=\"Open In Colab\"/></a>"
      ]
    },
    {
      "cell_type": "markdown",
      "metadata": {
        "id": "YBIsddxJvb9d"
      },
      "source": [
        "# Вариант 21"
      ]
    },
    {
      "cell_type": "code",
      "metadata": {
        "colab": {
          "base_uri": "https://localhost:8080/",
          "height": 443
        },
        "id": "wfV7u5cyfzLT",
        "outputId": "7bee1954-de85-44dc-bc6e-7f3749e2b436"
      },
      "source": [
        "import requests\n",
        "import pandas as pd\n",
        "import seaborn as sns\n",
        "import matplotlib.pyplot as plt\n",
        "from sklearn.preprocessing import MinMaxScaler\n",
        "from sklearn.preprocessing import StandardScaler\n",
        "from math import sqrt\n",
        "\n",
        "url='http://pogoda-service.ru/archive_gsod_res.php?country=LA&station=489570&datepicker_beg=01.12.2010&datepicker_end=01.12.2020&bsubmit=%D0%9F%D0%BE%D1%81%D0%BC%D0%BE%D1%82%D1%80%D0%B5%D1%82%D1%8C'\n",
        "req=requests.get(url)\n",
        "data=pd.read_html(req.text)\n",
        "df=data[0]\n",
        "df"
      ],
      "execution_count": 64,
      "outputs": [
        {
          "output_type": "execute_result",
          "data": {
            "text/html": [
              "<div>\n",
              "<style scoped>\n",
              "    .dataframe tbody tr th:only-of-type {\n",
              "        vertical-align: middle;\n",
              "    }\n",
              "\n",
              "    .dataframe tbody tr th {\n",
              "        vertical-align: top;\n",
              "    }\n",
              "\n",
              "    .dataframe thead th {\n",
              "        text-align: right;\n",
              "    }\n",
              "</style>\n",
              "<table border=\"1\" class=\"dataframe\">\n",
              "  <thead>\n",
              "    <tr style=\"text-align: right;\">\n",
              "      <th></th>\n",
              "      <th>ÐÐ°ÑÐ°</th>\n",
              "      <th>ÐÐ°ÐºÑÐ¸Ð¼Ð°Ð»ÑÐ½Ð°Ñ ÑÐµÐ¼Ð¿ÐµÑÐ°ÑÑÑÐ°</th>\n",
              "      <th>ÐÐ¸Ð½Ð¸Ð¼Ð°Ð»ÑÐ½Ð°Ñ ÑÐµÐ¼Ð¿ÐµÑÐ°ÑÑÑÐ°</th>\n",
              "      <th>Ð¡ÑÐµÐ´Ð½ÑÑ ÑÐµÐ¼Ð¿ÐµÑÐ°ÑÑÑÐ°</th>\n",
              "      <th>ÐÑÐ¼Ð¾ÑÑÐµÑÐ½Ð¾Ðµ Ð´Ð°Ð²Ð»ÐµÐ½Ð¸Ðµ</th>\n",
              "      <th>Ð¡ÐºÐ¾ÑÐ¾ÑÑÑ Ð²ÐµÑÑÐ°</th>\n",
              "      <th>ÐÑÐ°Ð´ÐºÐ¸</th>\n",
              "      <th>Ð­ÑÑÐµÐºÑÐ¸Ð²Ð½Ð°Ñ ÑÐµÐ¼Ð¿ÐµÑÐ°ÑÑÑÐ°</th>\n",
              "    </tr>\n",
              "  </thead>\n",
              "  <tbody>\n",
              "    <tr>\n",
              "      <th>0</th>\n",
              "      <td>01.12.2010</td>\n",
              "      <td>32.5</td>\n",
              "      <td>22.8</td>\n",
              "      <td>29.3</td>\n",
              "      <td>996.7</td>\n",
              "      <td>2.0</td>\n",
              "      <td>0.0</td>\n",
              "      <td>30.7</td>\n",
              "    </tr>\n",
              "    <tr>\n",
              "      <th>1</th>\n",
              "      <td>02.12.2010</td>\n",
              "      <td>33.0</td>\n",
              "      <td>20.5</td>\n",
              "      <td>28.6</td>\n",
              "      <td>998.4</td>\n",
              "      <td>2.0</td>\n",
              "      <td>0.0</td>\n",
              "      <td>29.9</td>\n",
              "    </tr>\n",
              "    <tr>\n",
              "      <th>2</th>\n",
              "      <td>03.12.2010</td>\n",
              "      <td>32.0</td>\n",
              "      <td>24.0</td>\n",
              "      <td>29.3</td>\n",
              "      <td>998.6</td>\n",
              "      <td>2.0</td>\n",
              "      <td>0.0</td>\n",
              "      <td>30.9</td>\n",
              "    </tr>\n",
              "    <tr>\n",
              "      <th>3</th>\n",
              "      <td>04.12.2010</td>\n",
              "      <td>31.2</td>\n",
              "      <td>20.0</td>\n",
              "      <td>27.7</td>\n",
              "      <td>997.5</td>\n",
              "      <td>1.0</td>\n",
              "      <td>0.0</td>\n",
              "      <td>29.7</td>\n",
              "    </tr>\n",
              "    <tr>\n",
              "      <th>4</th>\n",
              "      <td>05.12.2010</td>\n",
              "      <td>33.0</td>\n",
              "      <td>20.5</td>\n",
              "      <td>29.0</td>\n",
              "      <td>995.9</td>\n",
              "      <td>1.0</td>\n",
              "      <td>0.0</td>\n",
              "      <td>31.4</td>\n",
              "    </tr>\n",
              "    <tr>\n",
              "      <th>...</th>\n",
              "      <td>...</td>\n",
              "      <td>...</td>\n",
              "      <td>...</td>\n",
              "      <td>...</td>\n",
              "      <td>...</td>\n",
              "      <td>...</td>\n",
              "      <td>...</td>\n",
              "      <td>...</td>\n",
              "    </tr>\n",
              "    <tr>\n",
              "      <th>995</th>\n",
              "      <td>27.01.2014</td>\n",
              "      <td>32.8</td>\n",
              "      <td>15.5</td>\n",
              "      <td>26.5</td>\n",
              "      <td>1001.9</td>\n",
              "      <td>1.0</td>\n",
              "      <td>0.0</td>\n",
              "      <td>27.7</td>\n",
              "    </tr>\n",
              "    <tr>\n",
              "      <th>996</th>\n",
              "      <td>28.01.2014</td>\n",
              "      <td>31.9</td>\n",
              "      <td>17.5</td>\n",
              "      <td>26.3</td>\n",
              "      <td>1002.1</td>\n",
              "      <td>1.0</td>\n",
              "      <td>0.0</td>\n",
              "      <td>27.7</td>\n",
              "    </tr>\n",
              "    <tr>\n",
              "      <th>997</th>\n",
              "      <td>30.01.2014</td>\n",
              "      <td>31.0</td>\n",
              "      <td>16.5</td>\n",
              "      <td>25.6</td>\n",
              "      <td>1002.4</td>\n",
              "      <td>2.0</td>\n",
              "      <td>0.0</td>\n",
              "      <td>26.2</td>\n",
              "    </tr>\n",
              "    <tr>\n",
              "      <th>998</th>\n",
              "      <td>31.01.2014</td>\n",
              "      <td>31.6</td>\n",
              "      <td>14.5</td>\n",
              "      <td>25.6</td>\n",
              "      <td>1001.9</td>\n",
              "      <td>1.0</td>\n",
              "      <td>0.0</td>\n",
              "      <td>27.4</td>\n",
              "    </tr>\n",
              "    <tr>\n",
              "      <th>999</th>\n",
              "      <td>01.02.2014</td>\n",
              "      <td>32.4</td>\n",
              "      <td>16.0</td>\n",
              "      <td>25.6</td>\n",
              "      <td>1000.2</td>\n",
              "      <td>NaN</td>\n",
              "      <td>0.0</td>\n",
              "      <td>NaN</td>\n",
              "    </tr>\n",
              "  </tbody>\n",
              "</table>\n",
              "<p>1000 rows × 8 columns</p>\n",
              "</div>"
            ],
            "text/plain": [
              "       ÐÐ°ÑÐ°  ...  Ð­ÑÑÐµÐºÑÐ¸Ð²Ð½Ð°Ñ ÑÐµÐ¼Ð¿ÐµÑÐ°ÑÑÑÐ°\n",
              "0    01.12.2010  ...                                           30.7\n",
              "1    02.12.2010  ...                                           29.9\n",
              "2    03.12.2010  ...                                           30.9\n",
              "3    04.12.2010  ...                                           29.7\n",
              "4    05.12.2010  ...                                           31.4\n",
              "..          ...  ...                                            ...\n",
              "995  27.01.2014  ...                                           27.7\n",
              "996  28.01.2014  ...                                           27.7\n",
              "997  30.01.2014  ...                                           26.2\n",
              "998  31.01.2014  ...                                           27.4\n",
              "999  01.02.2014  ...                                            NaN\n",
              "\n",
              "[1000 rows x 8 columns]"
            ]
          },
          "metadata": {
            "tags": []
          },
          "execution_count": 64
        }
      ]
    },
    {
      "cell_type": "code",
      "metadata": {
        "id": "Bb1fW1rHrNHD"
      },
      "source": [
        "df.columns=['Date', 'Max temp', 'Min temp', 'Av temp','Atm pressure','Percipitation', 'Wind speed', 'Effective temp']"
      ],
      "execution_count": 65,
      "outputs": []
    },
    {
      "cell_type": "code",
      "metadata": {
        "colab": {
          "base_uri": "https://localhost:8080/",
          "height": 423
        },
        "id": "697Pyh--rm9Y",
        "outputId": "def0bd15-2981-436a-cf8f-c026d64424a6"
      },
      "source": [
        "df"
      ],
      "execution_count": 66,
      "outputs": [
        {
          "output_type": "execute_result",
          "data": {
            "text/html": [
              "<div>\n",
              "<style scoped>\n",
              "    .dataframe tbody tr th:only-of-type {\n",
              "        vertical-align: middle;\n",
              "    }\n",
              "\n",
              "    .dataframe tbody tr th {\n",
              "        vertical-align: top;\n",
              "    }\n",
              "\n",
              "    .dataframe thead th {\n",
              "        text-align: right;\n",
              "    }\n",
              "</style>\n",
              "<table border=\"1\" class=\"dataframe\">\n",
              "  <thead>\n",
              "    <tr style=\"text-align: right;\">\n",
              "      <th></th>\n",
              "      <th>Date</th>\n",
              "      <th>Max temp</th>\n",
              "      <th>Min temp</th>\n",
              "      <th>Av temp</th>\n",
              "      <th>Atm pressure</th>\n",
              "      <th>Percipitation</th>\n",
              "      <th>Wind speed</th>\n",
              "      <th>Effective temp</th>\n",
              "    </tr>\n",
              "  </thead>\n",
              "  <tbody>\n",
              "    <tr>\n",
              "      <th>0</th>\n",
              "      <td>01.12.2010</td>\n",
              "      <td>32.5</td>\n",
              "      <td>22.8</td>\n",
              "      <td>29.3</td>\n",
              "      <td>996.7</td>\n",
              "      <td>2.0</td>\n",
              "      <td>0.0</td>\n",
              "      <td>30.7</td>\n",
              "    </tr>\n",
              "    <tr>\n",
              "      <th>1</th>\n",
              "      <td>02.12.2010</td>\n",
              "      <td>33.0</td>\n",
              "      <td>20.5</td>\n",
              "      <td>28.6</td>\n",
              "      <td>998.4</td>\n",
              "      <td>2.0</td>\n",
              "      <td>0.0</td>\n",
              "      <td>29.9</td>\n",
              "    </tr>\n",
              "    <tr>\n",
              "      <th>2</th>\n",
              "      <td>03.12.2010</td>\n",
              "      <td>32.0</td>\n",
              "      <td>24.0</td>\n",
              "      <td>29.3</td>\n",
              "      <td>998.6</td>\n",
              "      <td>2.0</td>\n",
              "      <td>0.0</td>\n",
              "      <td>30.9</td>\n",
              "    </tr>\n",
              "    <tr>\n",
              "      <th>3</th>\n",
              "      <td>04.12.2010</td>\n",
              "      <td>31.2</td>\n",
              "      <td>20.0</td>\n",
              "      <td>27.7</td>\n",
              "      <td>997.5</td>\n",
              "      <td>1.0</td>\n",
              "      <td>0.0</td>\n",
              "      <td>29.7</td>\n",
              "    </tr>\n",
              "    <tr>\n",
              "      <th>4</th>\n",
              "      <td>05.12.2010</td>\n",
              "      <td>33.0</td>\n",
              "      <td>20.5</td>\n",
              "      <td>29.0</td>\n",
              "      <td>995.9</td>\n",
              "      <td>1.0</td>\n",
              "      <td>0.0</td>\n",
              "      <td>31.4</td>\n",
              "    </tr>\n",
              "    <tr>\n",
              "      <th>...</th>\n",
              "      <td>...</td>\n",
              "      <td>...</td>\n",
              "      <td>...</td>\n",
              "      <td>...</td>\n",
              "      <td>...</td>\n",
              "      <td>...</td>\n",
              "      <td>...</td>\n",
              "      <td>...</td>\n",
              "    </tr>\n",
              "    <tr>\n",
              "      <th>995</th>\n",
              "      <td>27.01.2014</td>\n",
              "      <td>32.8</td>\n",
              "      <td>15.5</td>\n",
              "      <td>26.5</td>\n",
              "      <td>1001.9</td>\n",
              "      <td>1.0</td>\n",
              "      <td>0.0</td>\n",
              "      <td>27.7</td>\n",
              "    </tr>\n",
              "    <tr>\n",
              "      <th>996</th>\n",
              "      <td>28.01.2014</td>\n",
              "      <td>31.9</td>\n",
              "      <td>17.5</td>\n",
              "      <td>26.3</td>\n",
              "      <td>1002.1</td>\n",
              "      <td>1.0</td>\n",
              "      <td>0.0</td>\n",
              "      <td>27.7</td>\n",
              "    </tr>\n",
              "    <tr>\n",
              "      <th>997</th>\n",
              "      <td>30.01.2014</td>\n",
              "      <td>31.0</td>\n",
              "      <td>16.5</td>\n",
              "      <td>25.6</td>\n",
              "      <td>1002.4</td>\n",
              "      <td>2.0</td>\n",
              "      <td>0.0</td>\n",
              "      <td>26.2</td>\n",
              "    </tr>\n",
              "    <tr>\n",
              "      <th>998</th>\n",
              "      <td>31.01.2014</td>\n",
              "      <td>31.6</td>\n",
              "      <td>14.5</td>\n",
              "      <td>25.6</td>\n",
              "      <td>1001.9</td>\n",
              "      <td>1.0</td>\n",
              "      <td>0.0</td>\n",
              "      <td>27.4</td>\n",
              "    </tr>\n",
              "    <tr>\n",
              "      <th>999</th>\n",
              "      <td>01.02.2014</td>\n",
              "      <td>32.4</td>\n",
              "      <td>16.0</td>\n",
              "      <td>25.6</td>\n",
              "      <td>1000.2</td>\n",
              "      <td>NaN</td>\n",
              "      <td>0.0</td>\n",
              "      <td>NaN</td>\n",
              "    </tr>\n",
              "  </tbody>\n",
              "</table>\n",
              "<p>1000 rows × 8 columns</p>\n",
              "</div>"
            ],
            "text/plain": [
              "           Date  Max temp  Min temp  ...  Percipitation  Wind speed  Effective temp\n",
              "0    01.12.2010      32.5      22.8  ...            2.0         0.0            30.7\n",
              "1    02.12.2010      33.0      20.5  ...            2.0         0.0            29.9\n",
              "2    03.12.2010      32.0      24.0  ...            2.0         0.0            30.9\n",
              "3    04.12.2010      31.2      20.0  ...            1.0         0.0            29.7\n",
              "4    05.12.2010      33.0      20.5  ...            1.0         0.0            31.4\n",
              "..          ...       ...       ...  ...            ...         ...             ...\n",
              "995  27.01.2014      32.8      15.5  ...            1.0         0.0            27.7\n",
              "996  28.01.2014      31.9      17.5  ...            1.0         0.0            27.7\n",
              "997  30.01.2014      31.0      16.5  ...            2.0         0.0            26.2\n",
              "998  31.01.2014      31.6      14.5  ...            1.0         0.0            27.4\n",
              "999  01.02.2014      32.4      16.0  ...            NaN         0.0             NaN\n",
              "\n",
              "[1000 rows x 8 columns]"
            ]
          },
          "metadata": {
            "tags": []
          },
          "execution_count": 66
        }
      ]
    },
    {
      "cell_type": "code",
      "metadata": {
        "colab": {
          "base_uri": "https://localhost:8080/",
          "height": 436
        },
        "id": "s2M9gjicjlSf",
        "outputId": "7a4cab59-61ad-4201-a3c7-2c801972d696"
      },
      "source": [
        "df = df[['Date', 'Av temp']]\n",
        "df.set_index(['Date'], inplace=True)\n",
        "df"
      ],
      "execution_count": 67,
      "outputs": [
        {
          "output_type": "execute_result",
          "data": {
            "text/html": [
              "<div>\n",
              "<style scoped>\n",
              "    .dataframe tbody tr th:only-of-type {\n",
              "        vertical-align: middle;\n",
              "    }\n",
              "\n",
              "    .dataframe tbody tr th {\n",
              "        vertical-align: top;\n",
              "    }\n",
              "\n",
              "    .dataframe thead th {\n",
              "        text-align: right;\n",
              "    }\n",
              "</style>\n",
              "<table border=\"1\" class=\"dataframe\">\n",
              "  <thead>\n",
              "    <tr style=\"text-align: right;\">\n",
              "      <th></th>\n",
              "      <th>Av temp</th>\n",
              "    </tr>\n",
              "    <tr>\n",
              "      <th>Date</th>\n",
              "      <th></th>\n",
              "    </tr>\n",
              "  </thead>\n",
              "  <tbody>\n",
              "    <tr>\n",
              "      <th>01.12.2010</th>\n",
              "      <td>29.3</td>\n",
              "    </tr>\n",
              "    <tr>\n",
              "      <th>02.12.2010</th>\n",
              "      <td>28.6</td>\n",
              "    </tr>\n",
              "    <tr>\n",
              "      <th>03.12.2010</th>\n",
              "      <td>29.3</td>\n",
              "    </tr>\n",
              "    <tr>\n",
              "      <th>04.12.2010</th>\n",
              "      <td>27.7</td>\n",
              "    </tr>\n",
              "    <tr>\n",
              "      <th>05.12.2010</th>\n",
              "      <td>29.0</td>\n",
              "    </tr>\n",
              "    <tr>\n",
              "      <th>...</th>\n",
              "      <td>...</td>\n",
              "    </tr>\n",
              "    <tr>\n",
              "      <th>27.01.2014</th>\n",
              "      <td>26.5</td>\n",
              "    </tr>\n",
              "    <tr>\n",
              "      <th>28.01.2014</th>\n",
              "      <td>26.3</td>\n",
              "    </tr>\n",
              "    <tr>\n",
              "      <th>30.01.2014</th>\n",
              "      <td>25.6</td>\n",
              "    </tr>\n",
              "    <tr>\n",
              "      <th>31.01.2014</th>\n",
              "      <td>25.6</td>\n",
              "    </tr>\n",
              "    <tr>\n",
              "      <th>01.02.2014</th>\n",
              "      <td>25.6</td>\n",
              "    </tr>\n",
              "  </tbody>\n",
              "</table>\n",
              "<p>1000 rows × 1 columns</p>\n",
              "</div>"
            ],
            "text/plain": [
              "            Av temp\n",
              "Date               \n",
              "01.12.2010     29.3\n",
              "02.12.2010     28.6\n",
              "03.12.2010     29.3\n",
              "04.12.2010     27.7\n",
              "05.12.2010     29.0\n",
              "...             ...\n",
              "27.01.2014     26.5\n",
              "28.01.2014     26.3\n",
              "30.01.2014     25.6\n",
              "31.01.2014     25.6\n",
              "01.02.2014     25.6\n",
              "\n",
              "[1000 rows x 1 columns]"
            ]
          },
          "metadata": {
            "tags": []
          },
          "execution_count": 67
        }
      ]
    },
    {
      "cell_type": "markdown",
      "metadata": {
        "id": "LT_r03OHyYpy"
      },
      "source": [
        "## Нормализация"
      ]
    },
    {
      "cell_type": "code",
      "metadata": {
        "colab": {
          "base_uri": "https://localhost:8080/"
        },
        "id": "cl4Tlwrwmen8",
        "outputId": "fa13cbbf-ccdc-43c0-9a3a-2f1d0ad96368"
      },
      "source": [
        "values = df.values\n",
        "values = values.reshape((len(values), 1))\n",
        "scaler = MinMaxScaler(feature_range=(0, 1))\n",
        "scaler = scaler.fit(values)\n",
        "print('Min: %f, Max: %f' % (scaler.data_min_, scaler.data_max_))\n",
        "normalized = scaler.transform(values)\n",
        "for i in range(5):\n",
        "  print(normalized[i])\n",
        "inversed = scaler.inverse_transform(normalized)\n",
        "for i in range(5):\n",
        "  print(inversed[i])"
      ],
      "execution_count": 68,
      "outputs": [
        {
          "output_type": "stream",
          "text": [
            "Min: 18.500000, Max: 34.900000\n",
            "[0.65853659]\n",
            "[0.61585366]\n",
            "[0.65853659]\n",
            "[0.56097561]\n",
            "[0.6402439]\n",
            "[29.3]\n",
            "[28.6]\n",
            "[29.3]\n",
            "[27.7]\n",
            "[29.]\n"
          ],
          "name": "stdout"
        }
      ]
    },
    {
      "cell_type": "markdown",
      "metadata": {
        "id": "uvl57Lw0yfLQ"
      },
      "source": [
        "## Гистограмма"
      ]
    },
    {
      "cell_type": "code",
      "metadata": {
        "colab": {
          "base_uri": "https://localhost:8080/",
          "height": 281
        },
        "id": "McX7yqn5mdTD",
        "outputId": "6d61b0a5-b000-4bed-be59-6919d2ba6cda"
      },
      "source": [
        "df.hist()\n",
        "plt.show()"
      ],
      "execution_count": 69,
      "outputs": [
        {
          "output_type": "display_data",
          "data": {
            "image/png": "[encoded data removed]",
            "text/plain": [
              "<Figure size 432x288 with 1 Axes>"
            ]
          },
          "metadata": {
            "tags": [],
            "needs_background": "light"
          }
        }
      ]
    },
    {
      "cell_type": "markdown",
      "metadata": {
        "id": "gOeIqn7jyTha"
      },
      "source": [
        "## Стандартизация"
      ]
    },
    {
      "cell_type": "code",
      "metadata": {
        "colab": {
          "base_uri": "https://localhost:8080/"
        },
        "id": "8htHWBxdvklP",
        "outputId": "2a6e0fb5-3869-49d0-d926-1c41f5d1ce69"
      },
      "source": [
        "scaler = StandardScaler()\n",
        "scaler = scaler.fit(values)\n",
        "print('Mean: %f, StandardDeviation: %f' % (scaler.mean_, sqrt(scaler.var_)))\n",
        "norm = scaler.transform(values)\n",
        "for i in range(5):\n",
        "  print(norm[i])\n",
        "inversed = scaler.inverse_transform(norm)\n",
        "for i in range(5):\n",
        "  print(inversed[i])"
      ],
      "execution_count": 71,
      "outputs": [
        {
          "output_type": "stream",
          "text": [
            "Mean: 28.762700, StandardDeviation: 2.190593\n",
            "[0.24527602]\n",
            "[-0.07427212]\n",
            "[0.24527602]\n",
            "[-0.48511973]\n",
            "[0.10832682]\n",
            "[29.3]\n",
            "[28.6]\n",
            "[29.3]\n",
            "[27.7]\n",
            "[29.]\n"
          ],
          "name": "stdout"
        }
      ]
    },
    {
      "cell_type": "markdown",
      "metadata": {
        "id": "u42ztvd_y7iy"
      },
      "source": [
        "![1.PNG](data:image/png;base64,iVBORw0KGgoAAAANSUhEUgAAAewAAABWCAYAAAANDKXHAAAAAXNSR0IArs4c6QAAAARnQU1BAACxjwv8YQUAAAAJcEhZcwAADsMAAA7DAcdvqGQAABFrSURBVHhe7ZzNlSRFEoRHFc6IgQ5ogBTckIILEnDlhAYcEYATgsy+bxZbrHw9MrOmu7Mqvex7L15l/HlEhrmHdw90ffocQgghhKcnCTuEEEK4AEnYIYQQwgVIwg4hhBAuQBJ2CCGEcAGSsEMIIYQLkIQdQgghXIA2YX/69CklJSUlJSXlQaVjmbBDCNclMRzCdUnCDuGFSAyHcF2SsEN4IRLDIVyXJOwQXojEcAjX5d0T9rfffvtlnMrvv//+pf3HH3+8af/ll1++tIcQzoPYO8r3339/E7N///33lzgOITyGVfx+dcIGkjSJu/Lnn3/+L/BDCOdzJIaJT8aRsB39MJ74DeExrOI3CTuEgRyJYRJ1F7/Av4wRxyGE83l4wmYsbSreR122eJZNzalr6DcDzfM6xf85r/5zn8qvv/56U682sMulVfcE9Z/9mVvn1/rPP/98U6/9nJnOzUt99xCOgO9sIV/b+09WXfzU+FShDooZtbkNYqf6vorsdvEFWs/jRPuvc1R8j9ivMUa/j/F/bajvDnX+Vpx36zHe11PxdUPAJzrenLDd6WpRoMlphYKLfg9ujeeZMcAajOFTKJGqjbEKXO1JtkB9tNHHfqDuy/v17HvCttoF+9Be6xzQPNhaDwhaBa7eMYSvwf2sQ3Ei31sh3+ZTvqk4wD81n373V49PYK5sAfMVl+7riglBO/MUOxTfh95Btt0W7RTG+d5ki7X0DB6PFJ9Du/brc8DnwdZ6oHcCPvU+IQj3L6dtXQ2uVMcU1UFxSDm7oF9tPHtwe9DRXtdRv88RCh6tDVqnBlYNPPbp/aLOcwg4BV+3NnXtc2897Og9/QxCuBf3sw580n1vj73EUmO0xidzFSdCcbnl6x5f2rPDPNmBzla3N+x4nILis7aD32E1juv9sLcetnSWe+caXhP3L6dtXQ2uVMcU1fEZ40EFHsCM9eB2uzxjh/HYVaHf5wD2sOVrg9augaV96hN73g/Y7N5Rtih6D7X52rILR9ZTG6VbN4Qj4D9buA8eYSux4KfVX9XmRXECxIj8vkuyXXwpNhz25HdLZ4t5tGm+Pj1OsdO9n86JonXUJrRXvc+R9bBFG2V1ruF1wS862tbV4IocsyKHloN2wUBdAcBYbAmeNZ5n7GDT5yggQM6vsb42aI76FFjap9aq/ULtvl+9N5fJvQl7az29I6U72xCOgF/tgX+tfAyfld9Cl7Cpy98Z67Z49vmM9YStWILq69hU3eMLe/W9sOvrdHGjebKjOPQ4BbUzXrGpd+ZTe9Y4UeP4yHo6H8ZojRCE+5fTtq4GV3C4GhxQHVQOzCfIwQXPcm6QMwOfskO7gsbH+LNs65O9aI63Qd1nnSObwBrskTaeBW1q97UFddnZWg/cdnfxhHAU/GoP+WP1M/zQ4xGoe2Kpvi7fxSZtPMvvgbmySb9iEtzXPQbA44vi8aL9O13caJ7QPPaBbdkD2rFB8fdVwsZWXVdnITtb64HbrucaArj/OG3rarBDUDBOBScFHNDbcU6QE6s41HFa9XVzcHbqfPratDFede+TTQJGQaWy93+JM6e+i/A2rVfHemGPClqVup4K4+r7hHAv+M5Raizjy84qDjxmZYM2t4fv+7itIl+vbXwSE7oP3B5xJDxu1Kc5FGx1cVjfA2p8ah9bcY7tvfVUsO+22EMIAp/oaFtXgz8K1sPRp0IwTn6/8HycHcNHIQ665ERiU7JcoWT4rChBh/BWkrAfiH7yDuEsnjlhr5Ja/c2+8uwJe+vdQriHp03YrKWSpBbC+3BmDJ+BkrVKCJNZ+fgyYaekpKSkpKQ8pnQsE3aYTTSeTfSdTfSdTRJ2uCEazyb6zib6ziYJO9wQjWcTfWcTfWeThH0Q/pZz789LJpCAn030nU30nU0SdrghGs/mHn39i0Mo+lKP8LxE39ms9G1b73GGcE2i8WyO6Ktv86pfZKJv9aI/PCfRdzYrfdvWI84Qrk00ns0RfbnIV//5h/80lC8BeV6i72xeNmHrCxf00yaFtloX/FOR/0SKw+Pc/j3FEzjyHnp3feexgr/WgeDX+VCYB97m9fpTf3hfdN4rpJd0WqE4cX1Xv7FRPJbUVovHEra6L0Xx+KT4b4N1/ivCu29xVF/OT2eporiuukjbqrfb4G6o2qnU+0NF2mo99zXtv85R8T1iv95Dsu17xpbzjP7EXjra1tXgq+HiyVkkjtdrn0RzR5TjMFbPV4Z32sLfXYHa1fXMeD3rHAVnpjMlWCac37Pj59+hi44Y2YIxKqDL2OOhXriqgy5H9QnmyyfA+5mvmARseIy6//heXgk/y46j+kofPqUHc6WB5rsGwDPjBHNlC5gvXfjUXNp977Qzz+9q34feQbbdFu0UxvneZEt+iD3tReu7PfUBfV5/FOyjo21dDb4iEl3s1RHSLxIcwQV08a/MEY3ru+/VhQLGoU6ZcHZXYE9fvwy30AXn4xQj0rkWbAvpXeOMdo8z76fP7amwF3yutrudV4H33uKovqLeexXscfaCZ9eZuUqCQtrz6XMd5mhe9RGod0xnq+5Nfom/6NmRfwHzePbyDP6k/VXa1tXgK1KdYK9eHbc6DH1evypHNK7vvlcHzgfb1b4CZ8LZXYE9faUH/r9Fl7DREJ27y7Ai+zXOsEG9FvWtLk18bm/Pr4DOasVRfcVWwubMscWnUJsXT9hKloCePhfkVz6v+gjU+7azpXm1sEZnU2dDP7ae0Z/qnkXbuhp8Rapge/Uk7H+p775V59ywSTDUi1yBce8lEr6eo/pSOtCIootVly+gOXr7xSdok76ar2ffEzY8zryfvrov2uRH8jnhieJVeC99Rb33gLr0Zazb4tnnM9Z1cI2qnthUnTma5z4gsOvrdL5R9+Z+qWf3X7UB857Rn+o5iLZ1NfiKVCfYq1fHrYLSVwW+Ikc0ru++VceegqIGDOOEztsDKLw/R/SVTq4PoJEuLTRkjOvu+jHX5zOPOXoWNc6w53Hm/VrT52ss83x9Pn1vr4Kf5Yoj+grqroc0kJbMwQ42aeOZNsFc2aTfNeFZe5AdwRwK7ZSqbX1PtyWqTc3T3umra2p/fNY1fe+Por63aFtXg6+GHEBlr46QesYBEVl1RKTN61eGd9iivvte3c9OfXzqWeelMRTOP3wMnO9RXEsKWgpd3O77VTe1q08X5qrgC3rGbo1DqDZ0+UKN01eEdz/Klr7g50kRrrls0Ob20M7HbRXmQW3jE5+QH7g91939Rn3uO9ha+Y3vWXeReEZ/Yi8dbetqcJhDNJ7Ne+mrhK3fQI7AWF3OjmyFt/Os56gEXln5hKPkG9b6tq05tPlE49m8l75fm7C5fDvqb3fh63jW+EX3la/saZ+E/S+rc2hbc2jzicazeQ99laxV7kna4WOZFr9K1iqvzuoM2tYc2Hyi8Wyi72yi72ySsMMN0Xg20Xc20Xc2Sdjhhmg8m+g7m+g7myTscEM0nk30nU30nU0SdrghGs8m+s4m+s4mCTvcEI1nE31nE31nk4QdbojGs4m+s4m+s0nCDjdE49lE39kc1ZdxKvpKzvr39d7vX+HJ30br76P1pSfe7wWbtV9z6nq1zhrgXxGquf41pezPx9BX9+vjZcP/xnvv29aeBfba0bauBoc5ROPZRN/ZHNGX5KRkyJfeMIekR5u+BIc2jVFC93lqc9Qmm0rWJEv1KSnXpK2x4GszTs8aq7rbBcbSJny/QJ8naz0DY73+rPD+HW3ranCYQzSeTfSdzZ6+JKr62ySJqrZhx5MdKAGqVLqErWeHcWrbS9g816LEek/C5rPOrXbrGTwj7LOjbV0NDnOIxrOJvrPZ05cEVxOTkplDvSZl5tHuSdHpEnZn2/uVsGvR2jwzvqNLul3C5lPJfJXsrwLv2NG2rgaHOUTj2UTf2ezpqwTqv9EqqTmMUdIUSoD+G7LTJWw9e9JVGyhh+36oa21/Fvf8hu22a8LWs6j1Z0TnVmlbV4PDHKLxbKLvbI7oyxhPbDzXpMiYVcLWs5IlzyTFLmED/RRBYtTYvYTNWO+nXX3sey9he78naWz4OthPwg6XIxrPJvrO5qi+jFNR0hLepyRG8vPxSngU9ZH0lKxVlGh9fk3WPtbr2heJVm3aj7dhj3bV6av77WwwT22MvwLstaNtXQ0Oc4jGs4m+s4m+s0nCDjdE49lE39lE39ncnbBTUlJSUlJSHlM6lgk7zCYazyb6zib6ziYJO9wQjWcTfWcTfWeThB1uiMazib6zib6z+bCE/ccff3z+5ptvvnw6f/3115d2Fepb+Njffvvtn9bPX57VXtc4u28Sjw54948ffvjhn9b/57vvvtvUwfXyv8UE5qmPcc7ZfWdzRF/2qP3+9NNP/7T+l6Px6zZUOj2xX/vQVnPc/p5N7+fMna2+SbxV3w7OuNOOuJIdbDp7562+OnfLJntQ317emMqHJOwtsQhGXaCMo76CcZ0wujSEC3h23zQenbDdH9xXHAX16uKl3e0w1oPf9WOc2zm772z29GWfusR5Zu+uAfs/Er/1sqVekwO2ayJgjM5KyVxs2dRehZ/5Vt803qpvBX0ZU3Xi7NUmO/LrvfNmPa+LLZvsWc/MX/nddD4kYQs/cOFtfLqwlZUjIZ73ef3svmk8MmHXIOac6yWNz3D2nW+JOo/xugh4pl94/ey+R7Cnbz1T9uuX9dH4rVpiw21Tx3alru/rbdnkTN2e17f6pvFWfTu6MVVPzpSi563zXp39lk3XnjF7e57K6Qmbg9ZhI9xKPOYxn1Iv7fpbiv9kdnbfNB6ZsB3OuztjBXDnW4J5aCQYx3jo+tAXzu57BPfqy955B8Gz6lvx63DZ+jvLJgVdts6DPs6sUm3Wcb7vrb5pvFXfDjSuY7ozlR5b5037Pfe6bDq01R/eXoXTEzZIsK1glyASWBc1VLsu7Nl903iGhE1wc+b1jPEX+UXVxGG++xbjGA/YRD/xyL5HcK++nKPvH9g/ZSt+HeZ7/PLMuXAWsGWLcR3VJjZkD+jX3K2+abyHvhXGdAnb5x097617fcsmUGdOtf9KPCRh60KmHIWxq8v6qLN8RN80niFhC85dAc35+6VeNXEYR7/8xfXik7rABmPh7L5HcK++7L9yb/wynvcW9UzQq1tnK5lUm+zF68yTza2+abyHvpUuYROXrr+Puee8Gas43bLp1HGvxOkJ2wON56OBg0gKXuZUh5CwZ/dN45kSNufM2YOCtBaCugN9unG0Y1egq9Y4u+8R3KMvZ17hfXgHPe+9C5dxHUPdz4TnOoZ5K21XNrUvwCb7g62+abxV345V4uRcPcak6T3n7fc6rGxW6PM1XoVTEzaBRpt+ooJaX4GwGsezB7PXz+6bxjMlbHxnFej3BCyXgEA39BNeP7vvERzVl33Wy/Jr4hcb9X2pe1t3obtmlZVN9iy8vtU3jbfou4KxWz/goL/333Pe9HX+U21W8I8tv5vKqQkbaJN49FHfg3EIK6groBHNL42z+6bxTAmbgF1dKmiALlvQzzhH+gm3c3bfIziiL2fuFyz71Z7Z/z3xi4b1fTWPswFiy8co1kS97Fc2E79v17eDsavkia2q19HzZpzf66Kz6dC/lcwn8yEJGyEQSYUDFrXPHYW6BORTYzpxsNnZgLP7JvHIhM256owpnPmKqgMBLj+R76yC2tepa5zddzZ7+nrcqfjl6e9CoS6o+wXMJb26eDkH2VDy0OVei5/ZUZu+L9jqm8Rb9aXuGhJD3Ti1+1hndd6+fo3PLZusvZr3SnxIwg7XJRrPJvrOJvrOJgk73BCNZxN9ZxN9Z5OEHW6IxrOJvrOJvrNJwg43ROPZRN/ZRN/ZJGGHG6LxbKLvbKLvbO5O2CkpKSkpKSmPKR3LH9NWE0IIIYRwPknYIYQQwgVIwg4hhBAuQBJ2CCGEcAGSsEMIIYQLkIQdQgghXIAk7BBCCOHp+fz5P0snwaLsG1x3AAAAAElFTkSuQmCC)"
      ]
    }
  ]
}